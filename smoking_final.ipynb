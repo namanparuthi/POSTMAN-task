{
 "cells": [
  {
   "cell_type": "code",
   "execution_count": 10,
   "metadata": {},
   "outputs": [],
   "source": [
    "import pandas as pd\n",
    "import numpy as np\n",
    "import matplotlib.pyplot as plt\n",
    "from statistics import median\n",
    "from sklearn.linear_model import LogisticRegression as LR\n",
    "import sklearn as sk\n",
    "from sklearn.linear_model import SGDClassifier as classifier"
   ]
  },
  {
   "cell_type": "code",
   "execution_count": 11,
   "metadata": {},
   "outputs": [],
   "source": [
    "data= pd.read_csv(r\"/Users/namanparuthi/Downloads/smoking_driking_dataset_Ver01.csv\")"
   ]
  },
  {
   "cell_type": "code",
   "execution_count": 12,
   "metadata": {},
   "outputs": [
    {
     "data": {
      "text/html": [
       "<div>\n",
       "<style scoped>\n",
       "    .dataframe tbody tr th:only-of-type {\n",
       "        vertical-align: middle;\n",
       "    }\n",
       "\n",
       "    .dataframe tbody tr th {\n",
       "        vertical-align: top;\n",
       "    }\n",
       "\n",
       "    .dataframe thead th {\n",
       "        text-align: right;\n",
       "    }\n",
       "</style>\n",
       "<table border=\"1\" class=\"dataframe\">\n",
       "  <thead>\n",
       "    <tr style=\"text-align: right;\">\n",
       "      <th></th>\n",
       "      <th>age</th>\n",
       "      <th>height</th>\n",
       "      <th>weight</th>\n",
       "      <th>waistline</th>\n",
       "      <th>sight_left</th>\n",
       "      <th>sight_right</th>\n",
       "      <th>hear_left</th>\n",
       "      <th>hear_right</th>\n",
       "      <th>SBP</th>\n",
       "      <th>DBP</th>\n",
       "      <th>...</th>\n",
       "      <th>HDL_chole</th>\n",
       "      <th>LDL_chole</th>\n",
       "      <th>triglyceride</th>\n",
       "      <th>hemoglobin</th>\n",
       "      <th>urine_protein</th>\n",
       "      <th>serum_creatinine</th>\n",
       "      <th>SGOT_AST</th>\n",
       "      <th>SGOT_ALT</th>\n",
       "      <th>gamma_GTP</th>\n",
       "      <th>SMK_stat_type_cd</th>\n",
       "    </tr>\n",
       "  </thead>\n",
       "  <tbody>\n",
       "    <tr>\n",
       "      <th>count</th>\n",
       "      <td>991346.000000</td>\n",
       "      <td>991346.000000</td>\n",
       "      <td>991346.000000</td>\n",
       "      <td>991346.000000</td>\n",
       "      <td>991346.000000</td>\n",
       "      <td>991346.000000</td>\n",
       "      <td>991346.000000</td>\n",
       "      <td>991346.000000</td>\n",
       "      <td>991346.000000</td>\n",
       "      <td>991346.000000</td>\n",
       "      <td>...</td>\n",
       "      <td>991346.000000</td>\n",
       "      <td>991346.000000</td>\n",
       "      <td>991346.000000</td>\n",
       "      <td>991346.000000</td>\n",
       "      <td>991346.000000</td>\n",
       "      <td>991346.000000</td>\n",
       "      <td>991346.000000</td>\n",
       "      <td>991346.000000</td>\n",
       "      <td>991346.000000</td>\n",
       "      <td>991346.000000</td>\n",
       "    </tr>\n",
       "    <tr>\n",
       "      <th>mean</th>\n",
       "      <td>47.614491</td>\n",
       "      <td>162.240625</td>\n",
       "      <td>63.284050</td>\n",
       "      <td>81.233358</td>\n",
       "      <td>0.980834</td>\n",
       "      <td>0.978429</td>\n",
       "      <td>1.031495</td>\n",
       "      <td>1.030476</td>\n",
       "      <td>122.432498</td>\n",
       "      <td>76.052627</td>\n",
       "      <td>...</td>\n",
       "      <td>56.936800</td>\n",
       "      <td>113.037692</td>\n",
       "      <td>132.141751</td>\n",
       "      <td>14.229824</td>\n",
       "      <td>1.094224</td>\n",
       "      <td>0.860467</td>\n",
       "      <td>25.989308</td>\n",
       "      <td>25.755051</td>\n",
       "      <td>37.136347</td>\n",
       "      <td>1.608122</td>\n",
       "    </tr>\n",
       "    <tr>\n",
       "      <th>std</th>\n",
       "      <td>14.181339</td>\n",
       "      <td>9.282957</td>\n",
       "      <td>12.514241</td>\n",
       "      <td>11.850323</td>\n",
       "      <td>0.605949</td>\n",
       "      <td>0.604774</td>\n",
       "      <td>0.174650</td>\n",
       "      <td>0.171892</td>\n",
       "      <td>14.543148</td>\n",
       "      <td>9.889365</td>\n",
       "      <td>...</td>\n",
       "      <td>17.238479</td>\n",
       "      <td>35.842812</td>\n",
       "      <td>102.196985</td>\n",
       "      <td>1.584929</td>\n",
       "      <td>0.437724</td>\n",
       "      <td>0.480530</td>\n",
       "      <td>23.493386</td>\n",
       "      <td>26.308599</td>\n",
       "      <td>50.424153</td>\n",
       "      <td>0.818507</td>\n",
       "    </tr>\n",
       "    <tr>\n",
       "      <th>min</th>\n",
       "      <td>20.000000</td>\n",
       "      <td>130.000000</td>\n",
       "      <td>25.000000</td>\n",
       "      <td>8.000000</td>\n",
       "      <td>0.100000</td>\n",
       "      <td>0.100000</td>\n",
       "      <td>1.000000</td>\n",
       "      <td>1.000000</td>\n",
       "      <td>67.000000</td>\n",
       "      <td>32.000000</td>\n",
       "      <td>...</td>\n",
       "      <td>1.000000</td>\n",
       "      <td>1.000000</td>\n",
       "      <td>1.000000</td>\n",
       "      <td>1.000000</td>\n",
       "      <td>1.000000</td>\n",
       "      <td>0.100000</td>\n",
       "      <td>1.000000</td>\n",
       "      <td>1.000000</td>\n",
       "      <td>1.000000</td>\n",
       "      <td>1.000000</td>\n",
       "    </tr>\n",
       "    <tr>\n",
       "      <th>25%</th>\n",
       "      <td>35.000000</td>\n",
       "      <td>155.000000</td>\n",
       "      <td>55.000000</td>\n",
       "      <td>74.100000</td>\n",
       "      <td>0.700000</td>\n",
       "      <td>0.700000</td>\n",
       "      <td>1.000000</td>\n",
       "      <td>1.000000</td>\n",
       "      <td>112.000000</td>\n",
       "      <td>70.000000</td>\n",
       "      <td>...</td>\n",
       "      <td>46.000000</td>\n",
       "      <td>89.000000</td>\n",
       "      <td>73.000000</td>\n",
       "      <td>13.200000</td>\n",
       "      <td>1.000000</td>\n",
       "      <td>0.700000</td>\n",
       "      <td>19.000000</td>\n",
       "      <td>15.000000</td>\n",
       "      <td>16.000000</td>\n",
       "      <td>1.000000</td>\n",
       "    </tr>\n",
       "    <tr>\n",
       "      <th>50%</th>\n",
       "      <td>45.000000</td>\n",
       "      <td>160.000000</td>\n",
       "      <td>60.000000</td>\n",
       "      <td>81.000000</td>\n",
       "      <td>1.000000</td>\n",
       "      <td>1.000000</td>\n",
       "      <td>1.000000</td>\n",
       "      <td>1.000000</td>\n",
       "      <td>120.000000</td>\n",
       "      <td>76.000000</td>\n",
       "      <td>...</td>\n",
       "      <td>55.000000</td>\n",
       "      <td>111.000000</td>\n",
       "      <td>106.000000</td>\n",
       "      <td>14.300000</td>\n",
       "      <td>1.000000</td>\n",
       "      <td>0.800000</td>\n",
       "      <td>23.000000</td>\n",
       "      <td>20.000000</td>\n",
       "      <td>23.000000</td>\n",
       "      <td>1.000000</td>\n",
       "    </tr>\n",
       "    <tr>\n",
       "      <th>75%</th>\n",
       "      <td>60.000000</td>\n",
       "      <td>170.000000</td>\n",
       "      <td>70.000000</td>\n",
       "      <td>87.800000</td>\n",
       "      <td>1.200000</td>\n",
       "      <td>1.200000</td>\n",
       "      <td>1.000000</td>\n",
       "      <td>1.000000</td>\n",
       "      <td>131.000000</td>\n",
       "      <td>82.000000</td>\n",
       "      <td>...</td>\n",
       "      <td>66.000000</td>\n",
       "      <td>135.000000</td>\n",
       "      <td>159.000000</td>\n",
       "      <td>15.400000</td>\n",
       "      <td>1.000000</td>\n",
       "      <td>1.000000</td>\n",
       "      <td>28.000000</td>\n",
       "      <td>29.000000</td>\n",
       "      <td>39.000000</td>\n",
       "      <td>2.000000</td>\n",
       "    </tr>\n",
       "    <tr>\n",
       "      <th>max</th>\n",
       "      <td>85.000000</td>\n",
       "      <td>190.000000</td>\n",
       "      <td>140.000000</td>\n",
       "      <td>999.000000</td>\n",
       "      <td>9.900000</td>\n",
       "      <td>9.900000</td>\n",
       "      <td>2.000000</td>\n",
       "      <td>2.000000</td>\n",
       "      <td>273.000000</td>\n",
       "      <td>185.000000</td>\n",
       "      <td>...</td>\n",
       "      <td>8110.000000</td>\n",
       "      <td>5119.000000</td>\n",
       "      <td>9490.000000</td>\n",
       "      <td>25.000000</td>\n",
       "      <td>6.000000</td>\n",
       "      <td>98.000000</td>\n",
       "      <td>9999.000000</td>\n",
       "      <td>7210.000000</td>\n",
       "      <td>999.000000</td>\n",
       "      <td>3.000000</td>\n",
       "    </tr>\n",
       "  </tbody>\n",
       "</table>\n",
       "<p>8 rows × 22 columns</p>\n",
       "</div>"
      ],
      "text/plain": [
       "                 age         height         weight      waistline  \\\n",
       "count  991346.000000  991346.000000  991346.000000  991346.000000   \n",
       "mean       47.614491     162.240625      63.284050      81.233358   \n",
       "std        14.181339       9.282957      12.514241      11.850323   \n",
       "min        20.000000     130.000000      25.000000       8.000000   \n",
       "25%        35.000000     155.000000      55.000000      74.100000   \n",
       "50%        45.000000     160.000000      60.000000      81.000000   \n",
       "75%        60.000000     170.000000      70.000000      87.800000   \n",
       "max        85.000000     190.000000     140.000000     999.000000   \n",
       "\n",
       "          sight_left    sight_right      hear_left     hear_right  \\\n",
       "count  991346.000000  991346.000000  991346.000000  991346.000000   \n",
       "mean        0.980834       0.978429       1.031495       1.030476   \n",
       "std         0.605949       0.604774       0.174650       0.171892   \n",
       "min         0.100000       0.100000       1.000000       1.000000   \n",
       "25%         0.700000       0.700000       1.000000       1.000000   \n",
       "50%         1.000000       1.000000       1.000000       1.000000   \n",
       "75%         1.200000       1.200000       1.000000       1.000000   \n",
       "max         9.900000       9.900000       2.000000       2.000000   \n",
       "\n",
       "                 SBP            DBP  ...      HDL_chole      LDL_chole  \\\n",
       "count  991346.000000  991346.000000  ...  991346.000000  991346.000000   \n",
       "mean      122.432498      76.052627  ...      56.936800     113.037692   \n",
       "std        14.543148       9.889365  ...      17.238479      35.842812   \n",
       "min        67.000000      32.000000  ...       1.000000       1.000000   \n",
       "25%       112.000000      70.000000  ...      46.000000      89.000000   \n",
       "50%       120.000000      76.000000  ...      55.000000     111.000000   \n",
       "75%       131.000000      82.000000  ...      66.000000     135.000000   \n",
       "max       273.000000     185.000000  ...    8110.000000    5119.000000   \n",
       "\n",
       "        triglyceride     hemoglobin  urine_protein  serum_creatinine  \\\n",
       "count  991346.000000  991346.000000  991346.000000     991346.000000   \n",
       "mean      132.141751      14.229824       1.094224          0.860467   \n",
       "std       102.196985       1.584929       0.437724          0.480530   \n",
       "min         1.000000       1.000000       1.000000          0.100000   \n",
       "25%        73.000000      13.200000       1.000000          0.700000   \n",
       "50%       106.000000      14.300000       1.000000          0.800000   \n",
       "75%       159.000000      15.400000       1.000000          1.000000   \n",
       "max      9490.000000      25.000000       6.000000         98.000000   \n",
       "\n",
       "            SGOT_AST       SGOT_ALT      gamma_GTP  SMK_stat_type_cd  \n",
       "count  991346.000000  991346.000000  991346.000000     991346.000000  \n",
       "mean       25.989308      25.755051      37.136347          1.608122  \n",
       "std        23.493386      26.308599      50.424153          0.818507  \n",
       "min         1.000000       1.000000       1.000000          1.000000  \n",
       "25%        19.000000      15.000000      16.000000          1.000000  \n",
       "50%        23.000000      20.000000      23.000000          1.000000  \n",
       "75%        28.000000      29.000000      39.000000          2.000000  \n",
       "max      9999.000000    7210.000000     999.000000          3.000000  \n",
       "\n",
       "[8 rows x 22 columns]"
      ]
     },
     "execution_count": 12,
     "metadata": {},
     "output_type": "execute_result"
    }
   ],
   "source": [
    "data.describe()"
   ]
  },
  {
   "cell_type": "code",
   "execution_count": 13,
   "metadata": {},
   "outputs": [
    {
     "data": {
      "text/plain": [
       "SMK_stat_type_cd\n",
       "1    602441\n",
       "3    213954\n",
       "2    174951\n",
       "Name: count, dtype: int64"
      ]
     },
     "execution_count": 13,
     "metadata": {},
     "output_type": "execute_result"
    }
   ],
   "source": [
    "data['SMK_stat_type_cd'].value_counts()"
   ]
  },
  {
   "cell_type": "code",
   "execution_count": 14,
   "metadata": {},
   "outputs": [],
   "source": [
    "data.drop(['sex','DRK_YN'], inplace=True, axis=1)\n"
   ]
  },
  {
   "cell_type": "code",
   "execution_count": 15,
   "metadata": {},
   "outputs": [
    {
     "data": {
      "text/html": [
       "<div>\n",
       "<style scoped>\n",
       "    .dataframe tbody tr th:only-of-type {\n",
       "        vertical-align: middle;\n",
       "    }\n",
       "\n",
       "    .dataframe tbody tr th {\n",
       "        vertical-align: top;\n",
       "    }\n",
       "\n",
       "    .dataframe thead th {\n",
       "        text-align: right;\n",
       "    }\n",
       "</style>\n",
       "<table border=\"1\" class=\"dataframe\">\n",
       "  <thead>\n",
       "    <tr style=\"text-align: right;\">\n",
       "      <th></th>\n",
       "      <th>age</th>\n",
       "      <th>height</th>\n",
       "      <th>weight</th>\n",
       "      <th>waistline</th>\n",
       "      <th>sight_left</th>\n",
       "      <th>sight_right</th>\n",
       "      <th>hear_left</th>\n",
       "      <th>hear_right</th>\n",
       "      <th>SBP</th>\n",
       "      <th>DBP</th>\n",
       "      <th>...</th>\n",
       "      <th>tot_chole</th>\n",
       "      <th>HDL_chole</th>\n",
       "      <th>LDL_chole</th>\n",
       "      <th>triglyceride</th>\n",
       "      <th>hemoglobin</th>\n",
       "      <th>urine_protein</th>\n",
       "      <th>serum_creatinine</th>\n",
       "      <th>SGOT_AST</th>\n",
       "      <th>SGOT_ALT</th>\n",
       "      <th>gamma_GTP</th>\n",
       "    </tr>\n",
       "    <tr>\n",
       "      <th>SMK_stat_type_cd</th>\n",
       "      <th></th>\n",
       "      <th></th>\n",
       "      <th></th>\n",
       "      <th></th>\n",
       "      <th></th>\n",
       "      <th></th>\n",
       "      <th></th>\n",
       "      <th></th>\n",
       "      <th></th>\n",
       "      <th></th>\n",
       "      <th></th>\n",
       "      <th></th>\n",
       "      <th></th>\n",
       "      <th></th>\n",
       "      <th></th>\n",
       "      <th></th>\n",
       "      <th></th>\n",
       "      <th></th>\n",
       "      <th></th>\n",
       "      <th></th>\n",
       "      <th></th>\n",
       "    </tr>\n",
       "  </thead>\n",
       "  <tbody>\n",
       "    <tr>\n",
       "      <th>1</th>\n",
       "      <td>48.455401</td>\n",
       "      <td>158.572582</td>\n",
       "      <td>59.306272</td>\n",
       "      <td>79.001125</td>\n",
       "      <td>0.949829</td>\n",
       "      <td>0.946845</td>\n",
       "      <td>1.032956</td>\n",
       "      <td>1.032227</td>\n",
       "      <td>121.177911</td>\n",
       "      <td>74.916407</td>\n",
       "      <td>...</td>\n",
       "      <td>195.336906</td>\n",
       "      <td>59.258090</td>\n",
       "      <td>113.364130</td>\n",
       "      <td>115.055730</td>\n",
       "      <td>13.638717</td>\n",
       "      <td>1.087614</td>\n",
       "      <td>0.803322</td>\n",
       "      <td>24.680925</td>\n",
       "      <td>22.813524</td>\n",
       "      <td>27.426485</td>\n",
       "    </tr>\n",
       "    <tr>\n",
       "      <th>2</th>\n",
       "      <td>50.112632</td>\n",
       "      <td>167.382296</td>\n",
       "      <td>69.406891</td>\n",
       "      <td>85.312877</td>\n",
       "      <td>1.013957</td>\n",
       "      <td>1.013486</td>\n",
       "      <td>1.038639</td>\n",
       "      <td>1.036216</td>\n",
       "      <td>125.345011</td>\n",
       "      <td>78.059588</td>\n",
       "      <td>...</td>\n",
       "      <td>194.951243</td>\n",
       "      <td>53.824900</td>\n",
       "      <td>112.836686</td>\n",
       "      <td>147.418752</td>\n",
       "      <td>14.967969</td>\n",
       "      <td>1.108768</td>\n",
       "      <td>0.965003</td>\n",
       "      <td>28.196804</td>\n",
       "      <td>29.959320</td>\n",
       "      <td>47.043515</td>\n",
       "    </tr>\n",
       "    <tr>\n",
       "      <th>3</th>\n",
       "      <td>43.203960</td>\n",
       "      <td>168.364555</td>\n",
       "      <td>69.477808</td>\n",
       "      <td>84.182930</td>\n",
       "      <td>1.041053</td>\n",
       "      <td>1.038697</td>\n",
       "      <td>1.021537</td>\n",
       "      <td>1.020850</td>\n",
       "      <td>123.583527</td>\n",
       "      <td>77.610842</td>\n",
       "      <td>...</td>\n",
       "      <td>196.672154</td>\n",
       "      <td>52.945241</td>\n",
       "      <td>112.282888</td>\n",
       "      <td>167.759654</td>\n",
       "      <td>15.290647</td>\n",
       "      <td>1.100947</td>\n",
       "      <td>0.935891</td>\n",
       "      <td>27.868313</td>\n",
       "      <td>30.599811</td>\n",
       "      <td>56.375763</td>\n",
       "    </tr>\n",
       "  </tbody>\n",
       "</table>\n",
       "<p>3 rows × 21 columns</p>\n",
       "</div>"
      ],
      "text/plain": [
       "                        age      height     weight  waistline  sight_left  \\\n",
       "SMK_stat_type_cd                                                            \n",
       "1                 48.455401  158.572582  59.306272  79.001125    0.949829   \n",
       "2                 50.112632  167.382296  69.406891  85.312877    1.013957   \n",
       "3                 43.203960  168.364555  69.477808  84.182930    1.041053   \n",
       "\n",
       "                  sight_right  hear_left  hear_right         SBP        DBP  \\\n",
       "SMK_stat_type_cd                                                              \n",
       "1                    0.946845   1.032956    1.032227  121.177911  74.916407   \n",
       "2                    1.013486   1.038639    1.036216  125.345011  78.059588   \n",
       "3                    1.038697   1.021537    1.020850  123.583527  77.610842   \n",
       "\n",
       "                  ...   tot_chole  HDL_chole   LDL_chole  triglyceride  \\\n",
       "SMK_stat_type_cd  ...                                                    \n",
       "1                 ...  195.336906  59.258090  113.364130    115.055730   \n",
       "2                 ...  194.951243  53.824900  112.836686    147.418752   \n",
       "3                 ...  196.672154  52.945241  112.282888    167.759654   \n",
       "\n",
       "                  hemoglobin  urine_protein  serum_creatinine   SGOT_AST  \\\n",
       "SMK_stat_type_cd                                                           \n",
       "1                  13.638717       1.087614          0.803322  24.680925   \n",
       "2                  14.967969       1.108768          0.965003  28.196804   \n",
       "3                  15.290647       1.100947          0.935891  27.868313   \n",
       "\n",
       "                   SGOT_ALT  gamma_GTP  \n",
       "SMK_stat_type_cd                        \n",
       "1                 22.813524  27.426485  \n",
       "2                 29.959320  47.043515  \n",
       "3                 30.599811  56.375763  \n",
       "\n",
       "[3 rows x 21 columns]"
      ]
     },
     "execution_count": 15,
     "metadata": {},
     "output_type": "execute_result"
    }
   ],
   "source": [
    "data.groupby('SMK_stat_type_cd').mean()"
   ]
  },
  {
   "cell_type": "markdown",
   "metadata": {},
   "source": [
    "Here by analysis of data for smokers and non-smokers, we can conclude that smoking affects triglyceride, gamma_GTP, SGOT_AST, SGOT_ALT, serum_creatinine levels heavily."
   ]
  },
  {
   "cell_type": "markdown",
   "metadata": {},
   "source": [
    "Model 1-Logistic Regression"
   ]
  },
  {
   "cell_type": "code",
   "execution_count": 16,
   "metadata": {},
   "outputs": [],
   "source": [
    "y= data.loc[:,\"SMK_stat_type_cd\"]\n",
    "x=data.loc[:, ('triglyceride', 'gamma_GTP', 'SGOT_AST','SGOT_ALT','serum_creatinine')]"
   ]
  },
  {
   "cell_type": "code",
   "execution_count": 17,
   "metadata": {},
   "outputs": [],
   "source": [
    "from sklearn.model_selection import train_test_split \n",
    "x_train,x_test,y_train,y_test=train_test_split(x,y,test_size=0.20,random_state=0,shuffle=True) "
   ]
  },
  {
   "cell_type": "code",
   "execution_count": 18,
   "metadata": {},
   "outputs": [
    {
     "name": "stderr",
     "output_type": "stream",
     "text": [
      "/Library/Frameworks/Python.framework/Versions/3.11/lib/python3.11/site-packages/scipy/optimize/_linesearch.py:314: LineSearchWarning: The line search algorithm did not converge\n",
      "  warn('The line search algorithm did not converge', LineSearchWarning)\n",
      "/Library/Frameworks/Python.framework/Versions/3.11/lib/python3.11/site-packages/sklearn/utils/optimize.py:204: UserWarning: Line Search failed\n",
      "  warnings.warn(\"Line Search failed\")\n"
     ]
    }
   ],
   "source": [
    "model=LR(solver='newton-cg',multi_class='multinomial')\n",
    "model.fit(x_train,y_train)\n",
    "y_pred=model.predict(x_test)"
   ]
  },
  {
   "cell_type": "code",
   "execution_count": 19,
   "metadata": {},
   "outputs": [
    {
     "data": {
      "text/plain": [
       "array([1, 1, 1, ..., 1, 1, 1])"
      ]
     },
     "execution_count": 19,
     "metadata": {},
     "output_type": "execute_result"
    }
   ],
   "source": [
    "y_pred"
   ]
  },
  {
   "cell_type": "code",
   "execution_count": 20,
   "metadata": {},
   "outputs": [
    {
     "data": {
      "text/plain": [
       "62.63529530438291"
      ]
     },
     "execution_count": 20,
     "metadata": {},
     "output_type": "execute_result"
    }
   ],
   "source": [
    "accuracy=sk.metrics.accuracy_score(y_test, y_pred)\n",
    "accuracy*100"
   ]
  },
  {
   "cell_type": "markdown",
   "metadata": {},
   "source": [
    "Model 2- skm regression"
   ]
  },
  {
   "cell_type": "code",
   "execution_count": 21,
   "metadata": {},
   "outputs": [],
   "source": [
    "y= data.loc[:,\"SMK_stat_type_cd\"]\n",
    "x=data.loc[:, ('triglyceride', 'gamma_GTP', 'SGOT_AST','SGOT_ALT','serum_creatinine')]"
   ]
  },
  {
   "cell_type": "code",
   "execution_count": 22,
   "metadata": {},
   "outputs": [],
   "source": [
    "#normalising X \n",
    "\n",
    "import scipy\n",
    "X=scipy.stats.zscore(x)"
   ]
  },
  {
   "cell_type": "code",
   "execution_count": 24,
   "metadata": {},
   "outputs": [
    {
     "name": "stdout",
     "output_type": "stream",
     "text": [
      "        triglyceride  gamma_GTP  SGOT_AST  SGOT_ALT  serum_creatinine\n",
      "0          -0.392788   0.056791 -0.212371  0.351404          0.290374\n",
      "1          -0.109022  -0.201022 -0.254936  0.389415          0.082270\n",
      "2          -0.275368   0.612081  0.894324  0.237373          0.082270\n",
      "3          -0.255798  -0.379508  0.128151  0.313394          0.498477\n",
      "4          -0.275368  -0.240685 -0.297501 -0.522835         -0.125833\n",
      "...              ...        ...       ...       ...               ...\n",
      "991341     -0.001387  -0.201022  0.000455  0.389415          0.290374\n",
      "991342     -0.852685  -0.439003 -0.510327 -0.332783          0.498477\n",
      "991343      0.243239  -0.399340  0.170716  0.047321         -0.125833\n",
      "991344     -0.774404  -0.399340 -0.212371 -0.446814         -0.125833\n",
      "991345      0.301949  -0.022536 -0.084675  0.655487          0.082270\n",
      "\n",
      "[991346 rows x 5 columns]\n"
     ]
    }
   ],
   "source": [
    "print(X)"
   ]
  },
  {
   "cell_type": "code",
   "execution_count": 25,
   "metadata": {},
   "outputs": [],
   "source": [
    "from sklearn.model_selection import train_test_split\n",
    "\n",
    "X_train,X_test,y_train,y_test=train_test_split(X,y,shuffle=True)"
   ]
  },
  {
   "cell_type": "code",
   "execution_count": 26,
   "metadata": {},
   "outputs": [
    {
     "data": {
      "text/plain": [
       "((743509, 5), (743509,), (247837, 5), (247837,))"
      ]
     },
     "execution_count": 26,
     "metadata": {},
     "output_type": "execute_result"
    }
   ],
   "source": [
    "X_train.shape,y_train.shape,X_test.shape,y_test.shape"
   ]
  },
  {
   "cell_type": "code",
   "execution_count": 27,
   "metadata": {},
   "outputs": [],
   "source": [
    "classifier=classifier()\n",
    "classifier.fit(X_train,y_train)\n",
    "y_pred=classifier.predict(X_test)"
   ]
  },
  {
   "cell_type": "code",
   "execution_count": 28,
   "metadata": {},
   "outputs": [
    {
     "data": {
      "text/plain": [
       "array([3, 1, 1, ..., 1, 1, 1])"
      ]
     },
     "execution_count": 28,
     "metadata": {},
     "output_type": "execute_result"
    }
   ],
   "source": [
    "y_pred"
   ]
  },
  {
   "cell_type": "code",
   "execution_count": 29,
   "metadata": {},
   "outputs": [
    {
     "data": {
      "text/plain": [
       "61.893099093355715"
      ]
     },
     "execution_count": 29,
     "metadata": {},
     "output_type": "execute_result"
    }
   ],
   "source": [
    "accuracy=sk.metrics.accuracy_score(y_test, y_pred)\n",
    "accuracy*100"
   ]
  }
 ],
 "metadata": {
  "kernelspec": {
   "display_name": "Python 3",
   "language": "python",
   "name": "python3"
  },
  "language_info": {
   "codemirror_mode": {
    "name": "ipython",
    "version": 3
   },
   "file_extension": ".py",
   "mimetype": "text/x-python",
   "name": "python",
   "nbconvert_exporter": "python",
   "pygments_lexer": "ipython3",
   "version": "3.11.5"
  },
  "orig_nbformat": 4
 },
 "nbformat": 4,
 "nbformat_minor": 2
}
