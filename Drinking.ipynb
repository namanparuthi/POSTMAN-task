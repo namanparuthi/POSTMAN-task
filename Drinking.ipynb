{
 "cells": [
  {
   "cell_type": "code",
   "execution_count": 2,
   "metadata": {},
   "outputs": [
    {
     "name": "stdout",
     "output_type": "stream",
     "text": [
      "Collecting sklearn\n",
      "  Downloading sklearn-0.0.post9.tar.gz (3.6 kB)\n",
      "  Installing build dependencies ... \u001b[?25ldone\n",
      "\u001b[?25h  Getting requirements to build wheel ... \u001b[?25ldone\n",
      "\u001b[?25h  Preparing metadata (pyproject.toml) ... \u001b[?25ldone\n",
      "\u001b[?25hBuilding wheels for collected packages: sklearn\n",
      "  Building wheel for sklearn (pyproject.toml) ... \u001b[?25ldone\n",
      "\u001b[?25h  Created wheel for sklearn: filename=sklearn-0.0.post9-py3-none-any.whl size=2952 sha256=00f0af272f8b17ac7671e78fb29cfdd701209546e4e18d4e2774f695cccdc6f9\n",
      "  Stored in directory: /Users/namanparuthi/Library/Caches/pip/wheels/ef/63/d1/f1671e1e93b7ef4d35df483f9b2485e6dd21941da9a92296fb\n",
      "Successfully built sklearn\n",
      "Installing collected packages: sklearn\n",
      "Successfully installed sklearn-0.0.post9\n",
      "Note: you may need to restart the kernel to use updated packages.\n"
     ]
    }
   ],
   "source": [
    "pip install sklearn"
   ]
  },
  {
   "cell_type": "code",
   "execution_count": 2,
   "metadata": {},
   "outputs": [
    {
     "name": "stdout",
     "output_type": "stream",
     "text": [
      "Collecting scikit-learn\n",
      "  Obtaining dependency information for scikit-learn from https://files.pythonhosted.org/packages/18/36/60b58b6199547b7b46be03e05508d053162fbce146639bfc65609fa49b23/scikit_learn-1.3.0-cp311-cp311-macosx_12_0_arm64.whl.metadata\n",
      "  Downloading scikit_learn-1.3.0-cp311-cp311-macosx_12_0_arm64.whl.metadata (11 kB)\n",
      "Requirement already satisfied: numpy>=1.17.3 in /Library/Frameworks/Python.framework/Versions/3.11/lib/python3.11/site-packages (from scikit-learn) (1.25.2)\n",
      "Collecting scipy>=1.5.0 (from scikit-learn)\n",
      "  Obtaining dependency information for scipy>=1.5.0 from https://files.pythonhosted.org/packages/2a/12/62804d63514ecd9d2ecb73497c3e38094f9139bc60b0353b653253d106bb/scipy-1.11.2-cp311-cp311-macosx_12_0_arm64.whl.metadata\n",
      "  Downloading scipy-1.11.2-cp311-cp311-macosx_12_0_arm64.whl.metadata (146 kB)\n",
      "\u001b[2K     \u001b[90m━━━━━━━━━━━━━━━━━━━━━━━━━━━━━━━━━━━━━\u001b[0m \u001b[32m146.5/146.5 kB\u001b[0m \u001b[31m498.8 kB/s\u001b[0m eta \u001b[36m0:00:00\u001b[0ma \u001b[36m0:00:01\u001b[0m\n",
      "\u001b[?25hCollecting joblib>=1.1.1 (from scikit-learn)\n",
      "  Obtaining dependency information for joblib>=1.1.1 from https://files.pythonhosted.org/packages/10/40/d551139c85db202f1f384ba8bcf96aca2f329440a844f924c8a0040b6d02/joblib-1.3.2-py3-none-any.whl.metadata\n",
      "  Downloading joblib-1.3.2-py3-none-any.whl.metadata (5.4 kB)\n",
      "Collecting threadpoolctl>=2.0.0 (from scikit-learn)\n",
      "  Obtaining dependency information for threadpoolctl>=2.0.0 from https://files.pythonhosted.org/packages/81/12/fd4dea011af9d69e1cad05c75f3f7202cdcbeac9b712eea58ca779a72865/threadpoolctl-3.2.0-py3-none-any.whl.metadata\n",
      "  Downloading threadpoolctl-3.2.0-py3-none-any.whl.metadata (10.0 kB)\n",
      "Downloading scikit_learn-1.3.0-cp311-cp311-macosx_12_0_arm64.whl (9.4 MB)\n",
      "\u001b[2K   \u001b[90m━━━━━━━━━━━━━━━━━━━━━━━━━━━━━━━━━━━━━━━━\u001b[0m \u001b[32m9.4/9.4 MB\u001b[0m \u001b[31m7.3 MB/s\u001b[0m eta \u001b[36m0:00:00\u001b[0m00:01\u001b[0m00:01\u001b[0m\n",
      "\u001b[?25hDownloading joblib-1.3.2-py3-none-any.whl (302 kB)\n",
      "\u001b[2K   \u001b[90m━━━━━━━━━━━━━━━━━━━━━━━━━━━━━━━━━━━━━━━━\u001b[0m \u001b[32m302.2/302.2 kB\u001b[0m \u001b[31m7.2 MB/s\u001b[0m eta \u001b[36m0:00:00\u001b[0mta \u001b[36m0:00:01\u001b[0m\n",
      "\u001b[?25hDownloading scipy-1.11.2-cp311-cp311-macosx_12_0_arm64.whl (29.6 MB)\n",
      "\u001b[2K   \u001b[90m━━━━━━━━━━━━━━━━━━━━━━━━━━━━━━━━━━━━━━━━\u001b[0m \u001b[32m29.6/29.6 MB\u001b[0m \u001b[31m13.7 MB/s\u001b[0m eta \u001b[36m0:00:00\u001b[0m00:01\u001b[0m00:01\u001b[0m\n",
      "\u001b[?25hDownloading threadpoolctl-3.2.0-py3-none-any.whl (15 kB)\n",
      "Installing collected packages: threadpoolctl, scipy, joblib, scikit-learn\n",
      "Successfully installed joblib-1.3.2 scikit-learn-1.3.0 scipy-1.11.2 threadpoolctl-3.2.0\n",
      "Note: you may need to restart the kernel to use updated packages.\n"
     ]
    }
   ],
   "source": [
    "pip install scikit-learn\n"
   ]
  },
  {
   "cell_type": "code",
   "execution_count": 3,
   "metadata": {},
   "outputs": [],
   "source": [
    "import pandas as pd\n",
    "import numpy as np\n",
    "from sklearn.preprocessing import StandardScaler\n",
    "from sklearn.model_selection import train_test_split\n",
    "from sklearn import svm\n",
    "from sklearn.metrics import accuracy_score"
   ]
  },
  {
   "cell_type": "code",
   "execution_count": 54,
   "metadata": {},
   "outputs": [],
   "source": [
    "data= pd.read_csv(r\"/Users/namanparuthi/Downloads/smoking_driking_dataset_Ver01.csv\")"
   ]
  },
  {
   "cell_type": "code",
   "execution_count": 55,
   "metadata": {},
   "outputs": [
    {
     "data": {
      "text/plain": [
       "DRK_YN\n",
       "N    495858\n",
       "Y    495488\n",
       "Name: count, dtype: int64"
      ]
     },
     "execution_count": 55,
     "metadata": {},
     "output_type": "execute_result"
    }
   ],
   "source": [
    "data['DRK_YN'].value_counts()"
   ]
  },
  {
   "cell_type": "code",
   "execution_count": 56,
   "metadata": {},
   "outputs": [
    {
     "name": "stdout",
     "output_type": "stream",
     "text": [
      "           sex  age  height  weight  waistline  sight_left  sight_right  \\\n",
      "0         Male   35     170      75       90.0         1.0          1.0   \n",
      "1         Male   30     180      80       89.0         0.9          1.2   \n",
      "2         Male   40     165      75       91.0         1.2          1.5   \n",
      "3         Male   50     175      80       91.0         1.5          1.2   \n",
      "4         Male   50     165      60       80.0         1.0          1.2   \n",
      "...        ...  ...     ...     ...        ...         ...          ...   \n",
      "991341    Male   45     175      80       92.1         1.5          1.5   \n",
      "991342    Male   35     170      75       86.0         1.0          1.5   \n",
      "991343  Female   40     155      50       68.0         1.0          0.7   \n",
      "991344    Male   25     175      60       72.0         1.5          1.0   \n",
      "991345    Male   50     160      70       90.5         1.0          1.5   \n",
      "\n",
      "        hear_left  hear_right  SBP  ...  LDL_chole  triglyceride  hemoglobin  \\\n",
      "0               1           1  120  ...        126            92        17.1   \n",
      "1               1           1  130  ...        148           121        15.8   \n",
      "2               1           1  120  ...         74           104        15.8   \n",
      "3               1           1  145  ...        104           106        17.6   \n",
      "4               1           1  138  ...        117           104        13.8   \n",
      "...           ...         ...  ...  ...        ...           ...         ...   \n",
      "991341          1           1  114  ...        125           132        15.0   \n",
      "991342          1           1  119  ...         84            45        15.8   \n",
      "991343          1           1  110  ...         77           157        14.3   \n",
      "991344          1           1  119  ...         73            53        14.5   \n",
      "991345          1           1  133  ...        153           163        15.8   \n",
      "\n",
      "        urine_protein  serum_creatinine  SGOT_AST  SGOT_ALT  gamma_GTP  \\\n",
      "0                   1               1.0        21        35         40   \n",
      "1                   1               0.9        20        36         27   \n",
      "2                   1               0.9        47        32         68   \n",
      "3                   1               1.1        29        34         18   \n",
      "4                   1               0.8        19        12         25   \n",
      "...               ...               ...       ...       ...        ...   \n",
      "991341              1               1.0        26        36         27   \n",
      "991342              1               1.1        14        17         15   \n",
      "991343              1               0.8        30        27         17   \n",
      "991344              1               0.8        21        14         17   \n",
      "991345              1               0.9        24        43         36   \n",
      "\n",
      "        SMK_stat_type_cd  DRK_YN  \n",
      "0                      1       Y  \n",
      "1                      3       N  \n",
      "2                      1       N  \n",
      "3                      1       N  \n",
      "4                      1       N  \n",
      "...                  ...     ...  \n",
      "991341                 1       N  \n",
      "991342                 1       N  \n",
      "991343                 3       Y  \n",
      "991344                 1       N  \n",
      "991345                 3       Y  \n",
      "\n",
      "[991346 rows x 24 columns]\n"
     ]
    }
   ],
   "source": [
    "print(data)"
   ]
  },
  {
   "cell_type": "code",
   "execution_count": 57,
   "metadata": {},
   "outputs": [],
   "source": [
    "data.drop(['sex'], inplace=True, axis=1)"
   ]
  },
  {
   "cell_type": "code",
   "execution_count": 58,
   "metadata": {},
   "outputs": [
    {
     "data": {
      "text/html": [
       "<div>\n",
       "<style scoped>\n",
       "    .dataframe tbody tr th:only-of-type {\n",
       "        vertical-align: middle;\n",
       "    }\n",
       "\n",
       "    .dataframe tbody tr th {\n",
       "        vertical-align: top;\n",
       "    }\n",
       "\n",
       "    .dataframe thead th {\n",
       "        text-align: right;\n",
       "    }\n",
       "</style>\n",
       "<table border=\"1\" class=\"dataframe\">\n",
       "  <thead>\n",
       "    <tr style=\"text-align: right;\">\n",
       "      <th></th>\n",
       "      <th>age</th>\n",
       "      <th>height</th>\n",
       "      <th>weight</th>\n",
       "      <th>waistline</th>\n",
       "      <th>sight_left</th>\n",
       "      <th>sight_right</th>\n",
       "      <th>hear_left</th>\n",
       "      <th>hear_right</th>\n",
       "      <th>SBP</th>\n",
       "      <th>DBP</th>\n",
       "      <th>...</th>\n",
       "      <th>HDL_chole</th>\n",
       "      <th>LDL_chole</th>\n",
       "      <th>triglyceride</th>\n",
       "      <th>hemoglobin</th>\n",
       "      <th>urine_protein</th>\n",
       "      <th>serum_creatinine</th>\n",
       "      <th>SGOT_AST</th>\n",
       "      <th>SGOT_ALT</th>\n",
       "      <th>gamma_GTP</th>\n",
       "      <th>SMK_stat_type_cd</th>\n",
       "    </tr>\n",
       "    <tr>\n",
       "      <th>DRK_YN</th>\n",
       "      <th></th>\n",
       "      <th></th>\n",
       "      <th></th>\n",
       "      <th></th>\n",
       "      <th></th>\n",
       "      <th></th>\n",
       "      <th></th>\n",
       "      <th></th>\n",
       "      <th></th>\n",
       "      <th></th>\n",
       "      <th></th>\n",
       "      <th></th>\n",
       "      <th></th>\n",
       "      <th></th>\n",
       "      <th></th>\n",
       "      <th></th>\n",
       "      <th></th>\n",
       "      <th></th>\n",
       "      <th></th>\n",
       "      <th></th>\n",
       "      <th></th>\n",
       "    </tr>\n",
       "  </thead>\n",
       "  <tbody>\n",
       "    <tr>\n",
       "      <th>N</th>\n",
       "      <td>51.648809</td>\n",
       "      <td>158.764848</td>\n",
       "      <td>59.977998</td>\n",
       "      <td>80.131769</td>\n",
       "      <td>0.933964</td>\n",
       "      <td>0.933205</td>\n",
       "      <td>1.041679</td>\n",
       "      <td>1.040481</td>\n",
       "      <td>121.950591</td>\n",
       "      <td>75.055403</td>\n",
       "      <td>...</td>\n",
       "      <td>56.204200</td>\n",
       "      <td>114.603191</td>\n",
       "      <td>121.476582</td>\n",
       "      <td>13.755567</td>\n",
       "      <td>1.095592</td>\n",
       "      <td>0.831262</td>\n",
       "      <td>25.064444</td>\n",
       "      <td>24.100658</td>\n",
       "      <td>26.798521</td>\n",
       "      <td>1.321110</td>\n",
       "    </tr>\n",
       "    <tr>\n",
       "      <th>Y</th>\n",
       "      <td>43.577160</td>\n",
       "      <td>165.718998</td>\n",
       "      <td>66.592571</td>\n",
       "      <td>82.335770</td>\n",
       "      <td>1.027740</td>\n",
       "      <td>1.023687</td>\n",
       "      <td>1.021302</td>\n",
       "      <td>1.020463</td>\n",
       "      <td>122.914765</td>\n",
       "      <td>77.050597</td>\n",
       "      <td>...</td>\n",
       "      <td>57.669948</td>\n",
       "      <td>111.471025</td>\n",
       "      <td>142.814884</td>\n",
       "      <td>14.704434</td>\n",
       "      <td>1.092856</td>\n",
       "      <td>0.889693</td>\n",
       "      <td>26.914864</td>\n",
       "      <td>27.410680</td>\n",
       "      <td>47.481893</td>\n",
       "      <td>1.895348</td>\n",
       "    </tr>\n",
       "  </tbody>\n",
       "</table>\n",
       "<p>2 rows × 22 columns</p>\n",
       "</div>"
      ],
      "text/plain": [
       "              age      height     weight  waistline  sight_left  sight_right  \\\n",
       "DRK_YN                                                                         \n",
       "N       51.648809  158.764848  59.977998  80.131769    0.933964     0.933205   \n",
       "Y       43.577160  165.718998  66.592571  82.335770    1.027740     1.023687   \n",
       "\n",
       "        hear_left  hear_right         SBP        DBP  ...  HDL_chole  \\\n",
       "DRK_YN                                                ...              \n",
       "N        1.041679    1.040481  121.950591  75.055403  ...  56.204200   \n",
       "Y        1.021302    1.020463  122.914765  77.050597  ...  57.669948   \n",
       "\n",
       "         LDL_chole  triglyceride  hemoglobin  urine_protein  serum_creatinine  \\\n",
       "DRK_YN                                                                          \n",
       "N       114.603191    121.476582   13.755567       1.095592          0.831262   \n",
       "Y       111.471025    142.814884   14.704434       1.092856          0.889693   \n",
       "\n",
       "         SGOT_AST   SGOT_ALT  gamma_GTP  SMK_stat_type_cd  \n",
       "DRK_YN                                                     \n",
       "N       25.064444  24.100658  26.798521          1.321110  \n",
       "Y       26.914864  27.410680  47.481893          1.895348  \n",
       "\n",
       "[2 rows x 22 columns]"
      ]
     },
     "execution_count": 58,
     "metadata": {},
     "output_type": "execute_result"
    }
   ],
   "source": [
    "data.groupby('DRK_YN').mean()"
   ]
  },
  {
   "cell_type": "code",
   "execution_count": 59,
   "metadata": {},
   "outputs": [],
   "source": [
    "X= data.drop(columns='DRK_YN', axis=1)\n",
    "Y=data['DRK_YN']"
   ]
  },
  {
   "cell_type": "code",
   "execution_count": 60,
   "metadata": {},
   "outputs": [
    {
     "name": "stdout",
     "output_type": "stream",
     "text": [
      "        age  height  weight  waistline  sight_left  sight_right  hear_left  \\\n",
      "0        35     170      75       90.0         1.0          1.0          1   \n",
      "1        30     180      80       89.0         0.9          1.2          1   \n",
      "2        40     165      75       91.0         1.2          1.5          1   \n",
      "3        50     175      80       91.0         1.5          1.2          1   \n",
      "4        50     165      60       80.0         1.0          1.2          1   \n",
      "...     ...     ...     ...        ...         ...          ...        ...   \n",
      "991341   45     175      80       92.1         1.5          1.5          1   \n",
      "991342   35     170      75       86.0         1.0          1.5          1   \n",
      "991343   40     155      50       68.0         1.0          0.7          1   \n",
      "991344   25     175      60       72.0         1.5          1.0          1   \n",
      "991345   50     160      70       90.5         1.0          1.5          1   \n",
      "\n",
      "        hear_right  SBP  DBP  ...  HDL_chole  LDL_chole  triglyceride  \\\n",
      "0                1  120   80  ...         48        126            92   \n",
      "1                1  130   82  ...         55        148           121   \n",
      "2                1  120   70  ...         41         74           104   \n",
      "3                1  145   87  ...         76        104           106   \n",
      "4                1  138   82  ...         61        117           104   \n",
      "...            ...  ...  ...  ...        ...        ...           ...   \n",
      "991341           1  114   80  ...         46        125           132   \n",
      "991342           1  119   83  ...         40         84            45   \n",
      "991343           1  110   70  ...         96         77           157   \n",
      "991344           1  119   74  ...         38         73            53   \n",
      "991345           1  133   79  ...         39        153           163   \n",
      "\n",
      "        hemoglobin  urine_protein  serum_creatinine  SGOT_AST  SGOT_ALT  \\\n",
      "0             17.1              1               1.0        21        35   \n",
      "1             15.8              1               0.9        20        36   \n",
      "2             15.8              1               0.9        47        32   \n",
      "3             17.6              1               1.1        29        34   \n",
      "4             13.8              1               0.8        19        12   \n",
      "...            ...            ...               ...       ...       ...   \n",
      "991341        15.0              1               1.0        26        36   \n",
      "991342        15.8              1               1.1        14        17   \n",
      "991343        14.3              1               0.8        30        27   \n",
      "991344        14.5              1               0.8        21        14   \n",
      "991345        15.8              1               0.9        24        43   \n",
      "\n",
      "        gamma_GTP  SMK_stat_type_cd  \n",
      "0              40                 1  \n",
      "1              27                 3  \n",
      "2              68                 1  \n",
      "3              18                 1  \n",
      "4              25                 1  \n",
      "...           ...               ...  \n",
      "991341         27                 1  \n",
      "991342         15                 1  \n",
      "991343         17                 3  \n",
      "991344         17                 1  \n",
      "991345         36                 3  \n",
      "\n",
      "[991346 rows x 22 columns]\n"
     ]
    }
   ],
   "source": [
    "print(X)"
   ]
  },
  {
   "cell_type": "code",
   "execution_count": 61,
   "metadata": {},
   "outputs": [
    {
     "name": "stdout",
     "output_type": "stream",
     "text": [
      "0         Y\n",
      "1         N\n",
      "2         N\n",
      "3         N\n",
      "4         N\n",
      "         ..\n",
      "991341    N\n",
      "991342    N\n",
      "991343    Y\n",
      "991344    N\n",
      "991345    Y\n",
      "Name: DRK_YN, Length: 991346, dtype: object\n"
     ]
    }
   ],
   "source": [
    "print(Y)"
   ]
  },
  {
   "cell_type": "code",
   "execution_count": 70,
   "metadata": {},
   "outputs": [],
   "source": [
    "scaler= StandardScaler()"
   ]
  },
  {
   "cell_type": "code",
   "execution_count": 72,
   "metadata": {},
   "outputs": [
    {
     "data": {
      "text/html": [
       "<style>#sk-container-id-2 {color: black;}#sk-container-id-2 pre{padding: 0;}#sk-container-id-2 div.sk-toggleable {background-color: white;}#sk-container-id-2 label.sk-toggleable__label {cursor: pointer;display: block;width: 100%;margin-bottom: 0;padding: 0.3em;box-sizing: border-box;text-align: center;}#sk-container-id-2 label.sk-toggleable__label-arrow:before {content: \"▸\";float: left;margin-right: 0.25em;color: #696969;}#sk-container-id-2 label.sk-toggleable__label-arrow:hover:before {color: black;}#sk-container-id-2 div.sk-estimator:hover label.sk-toggleable__label-arrow:before {color: black;}#sk-container-id-2 div.sk-toggleable__content {max-height: 0;max-width: 0;overflow: hidden;text-align: left;background-color: #f0f8ff;}#sk-container-id-2 div.sk-toggleable__content pre {margin: 0.2em;color: black;border-radius: 0.25em;background-color: #f0f8ff;}#sk-container-id-2 input.sk-toggleable__control:checked~div.sk-toggleable__content {max-height: 200px;max-width: 100%;overflow: auto;}#sk-container-id-2 input.sk-toggleable__control:checked~label.sk-toggleable__label-arrow:before {content: \"▾\";}#sk-container-id-2 div.sk-estimator input.sk-toggleable__control:checked~label.sk-toggleable__label {background-color: #d4ebff;}#sk-container-id-2 div.sk-label input.sk-toggleable__control:checked~label.sk-toggleable__label {background-color: #d4ebff;}#sk-container-id-2 input.sk-hidden--visually {border: 0;clip: rect(1px 1px 1px 1px);clip: rect(1px, 1px, 1px, 1px);height: 1px;margin: -1px;overflow: hidden;padding: 0;position: absolute;width: 1px;}#sk-container-id-2 div.sk-estimator {font-family: monospace;background-color: #f0f8ff;border: 1px dotted black;border-radius: 0.25em;box-sizing: border-box;margin-bottom: 0.5em;}#sk-container-id-2 div.sk-estimator:hover {background-color: #d4ebff;}#sk-container-id-2 div.sk-parallel-item::after {content: \"\";width: 100%;border-bottom: 1px solid gray;flex-grow: 1;}#sk-container-id-2 div.sk-label:hover label.sk-toggleable__label {background-color: #d4ebff;}#sk-container-id-2 div.sk-serial::before {content: \"\";position: absolute;border-left: 1px solid gray;box-sizing: border-box;top: 0;bottom: 0;left: 50%;z-index: 0;}#sk-container-id-2 div.sk-serial {display: flex;flex-direction: column;align-items: center;background-color: white;padding-right: 0.2em;padding-left: 0.2em;position: relative;}#sk-container-id-2 div.sk-item {position: relative;z-index: 1;}#sk-container-id-2 div.sk-parallel {display: flex;align-items: stretch;justify-content: center;background-color: white;position: relative;}#sk-container-id-2 div.sk-item::before, #sk-container-id-2 div.sk-parallel-item::before {content: \"\";position: absolute;border-left: 1px solid gray;box-sizing: border-box;top: 0;bottom: 0;left: 50%;z-index: -1;}#sk-container-id-2 div.sk-parallel-item {display: flex;flex-direction: column;z-index: 1;position: relative;background-color: white;}#sk-container-id-2 div.sk-parallel-item:first-child::after {align-self: flex-end;width: 50%;}#sk-container-id-2 div.sk-parallel-item:last-child::after {align-self: flex-start;width: 50%;}#sk-container-id-2 div.sk-parallel-item:only-child::after {width: 0;}#sk-container-id-2 div.sk-dashed-wrapped {border: 1px dashed gray;margin: 0 0.4em 0.5em 0.4em;box-sizing: border-box;padding-bottom: 0.4em;background-color: white;}#sk-container-id-2 div.sk-label label {font-family: monospace;font-weight: bold;display: inline-block;line-height: 1.2em;}#sk-container-id-2 div.sk-label-container {text-align: center;}#sk-container-id-2 div.sk-container {/* jupyter's `normalize.less` sets `[hidden] { display: none; }` but bootstrap.min.css set `[hidden] { display: none !important; }` so we also need the `!important` here to be able to override the default hidden behavior on the sphinx rendered scikit-learn.org. See: https://github.com/scikit-learn/scikit-learn/issues/21755 */display: inline-block !important;position: relative;}#sk-container-id-2 div.sk-text-repr-fallback {display: none;}</style><div id=\"sk-container-id-2\" class=\"sk-top-container\"><div class=\"sk-text-repr-fallback\"><pre>StandardScaler()</pre><b>In a Jupyter environment, please rerun this cell to show the HTML representation or trust the notebook. <br />On GitHub, the HTML representation is unable to render, please try loading this page with nbviewer.org.</b></div><div class=\"sk-container\" hidden><div class=\"sk-item\"><div class=\"sk-estimator sk-toggleable\"><input class=\"sk-toggleable__control sk-hidden--visually\" id=\"sk-estimator-id-2\" type=\"checkbox\" checked><label for=\"sk-estimator-id-2\" class=\"sk-toggleable__label sk-toggleable__label-arrow\">StandardScaler</label><div class=\"sk-toggleable__content\"><pre>StandardScaler()</pre></div></div></div></div></div>"
      ],
      "text/plain": [
       "StandardScaler()"
      ]
     },
     "execution_count": 72,
     "metadata": {},
     "output_type": "execute_result"
    }
   ],
   "source": [
    "scaler.fit(X)"
   ]
  },
  {
   "cell_type": "code",
   "execution_count": 74,
   "metadata": {},
   "outputs": [],
   "source": [
    "standarized_data=scaler.transform(X) "
   ]
  },
  {
   "cell_type": "code",
   "execution_count": 75,
   "metadata": {},
   "outputs": [
    {
     "name": "stdout",
     "output_type": "stream",
     "text": [
      "[[-0.88951382  0.83587354  0.93620986 ...  0.35140424  0.05679133\n",
      "  -0.74296486]\n",
      " [-1.24209002  1.91311698  1.33575488 ...  0.38941465 -0.20102176\n",
      "   1.70050947]\n",
      " [-0.53693763  0.29725182  0.93620986 ...  0.23737303  0.61208106\n",
      "  -0.74296486]\n",
      " ...\n",
      " [-0.53693763 -0.77999162 -1.0615152  ...  0.04732101 -0.39933952\n",
      "   1.70050947]\n",
      " [-1.59466621  1.37449526 -0.26242517 ... -0.44681425 -0.39933952\n",
      "  -0.74296486]\n",
      " [ 0.16821475 -0.2413699   0.53666485 ...  0.65548748 -0.02253578\n",
      "   1.70050947]]\n"
     ]
    }
   ],
   "source": [
    "print(standarized_data)"
   ]
  },
  {
   "cell_type": "code",
   "execution_count": 76,
   "metadata": {},
   "outputs": [],
   "source": [
    "X= standarized_data\n"
   ]
  },
  {
   "cell_type": "code",
   "execution_count": 77,
   "metadata": {},
   "outputs": [
    {
     "name": "stdout",
     "output_type": "stream",
     "text": [
      "[[-0.88951382  0.83587354  0.93620986 ...  0.35140424  0.05679133\n",
      "  -0.74296486]\n",
      " [-1.24209002  1.91311698  1.33575488 ...  0.38941465 -0.20102176\n",
      "   1.70050947]\n",
      " [-0.53693763  0.29725182  0.93620986 ...  0.23737303  0.61208106\n",
      "  -0.74296486]\n",
      " ...\n",
      " [-0.53693763 -0.77999162 -1.0615152  ...  0.04732101 -0.39933952\n",
      "   1.70050947]\n",
      " [-1.59466621  1.37449526 -0.26242517 ... -0.44681425 -0.39933952\n",
      "  -0.74296486]\n",
      " [ 0.16821475 -0.2413699   0.53666485 ...  0.65548748 -0.02253578\n",
      "   1.70050947]]\n",
      "0         Y\n",
      "1         N\n",
      "2         N\n",
      "3         N\n",
      "4         N\n",
      "         ..\n",
      "991341    N\n",
      "991342    N\n",
      "991343    Y\n",
      "991344    N\n",
      "991345    Y\n",
      "Name: DRK_YN, Length: 991346, dtype: object\n"
     ]
    }
   ],
   "source": [
    "print(X)\n",
    "print(Y)"
   ]
  },
  {
   "cell_type": "code",
   "execution_count": null,
   "metadata": {},
   "outputs": [],
   "source": [
    "X_train, X_test, Y_train, Y_test = train_test_split(X,Y, test_size=0.2, stratify=Y, random_state=2)"
   ]
  },
  {
   "cell_type": "code",
   "execution_count": 86,
   "metadata": {},
   "outputs": [
    {
     "name": "stdout",
     "output_type": "stream",
     "text": [
      "(991346, 22) (793076, 22) (198270, 22)\n"
     ]
    }
   ],
   "source": [
    "print(X.shape, X_train.shape, X_test.shape)"
   ]
  },
  {
   "cell_type": "code",
   "execution_count": 87,
   "metadata": {},
   "outputs": [],
   "source": [
    "classifier= svm.SVC(kernel='linear')"
   ]
  },
  {
   "cell_type": "code",
   "execution_count": null,
   "metadata": {},
   "outputs": [],
   "source": [
    "classifier.fit(X_train,Y_train)"
   ]
  }
 ],
 "metadata": {
  "kernelspec": {
   "display_name": "Python 3",
   "language": "python",
   "name": "python3"
  },
  "language_info": {
   "codemirror_mode": {
    "name": "ipython",
    "version": 3
   },
   "file_extension": ".py",
   "mimetype": "text/x-python",
   "name": "python",
   "nbconvert_exporter": "python",
   "pygments_lexer": "ipython3",
   "version": "3.11.5"
  },
  "orig_nbformat": 4
 },
 "nbformat": 4,
 "nbformat_minor": 2
}
