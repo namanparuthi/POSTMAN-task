{
 "cells": [
  {
   "cell_type": "code",
   "execution_count": 25,
   "metadata": {},
   "outputs": [],
   "source": [
    "import pandas as pd\n",
    "import numpy as np\n",
    "import matplotlib.pyplot as plt\n",
    "import sklearn as sk\n",
    "from sklearn.linear_model import SGDClassifier as classifier\n"
   ]
  },
  {
   "cell_type": "code",
   "execution_count": 26,
   "metadata": {},
   "outputs": [],
   "source": [
    "data= pd.read_csv(r\"/Users/namanparuthi/Downloads/smoking_driking_dataset_Ver01.csv\")"
   ]
  },
  {
   "cell_type": "code",
   "execution_count": 27,
   "metadata": {},
   "outputs": [
    {
     "data": {
      "text/html": [
       "<div>\n",
       "<style scoped>\n",
       "    .dataframe tbody tr th:only-of-type {\n",
       "        vertical-align: middle;\n",
       "    }\n",
       "\n",
       "    .dataframe tbody tr th {\n",
       "        vertical-align: top;\n",
       "    }\n",
       "\n",
       "    .dataframe thead th {\n",
       "        text-align: right;\n",
       "    }\n",
       "</style>\n",
       "<table border=\"1\" class=\"dataframe\">\n",
       "  <thead>\n",
       "    <tr style=\"text-align: right;\">\n",
       "      <th></th>\n",
       "      <th>age</th>\n",
       "      <th>height</th>\n",
       "      <th>weight</th>\n",
       "      <th>waistline</th>\n",
       "      <th>sight_left</th>\n",
       "      <th>sight_right</th>\n",
       "      <th>hear_left</th>\n",
       "      <th>hear_right</th>\n",
       "      <th>SBP</th>\n",
       "      <th>DBP</th>\n",
       "      <th>...</th>\n",
       "      <th>HDL_chole</th>\n",
       "      <th>LDL_chole</th>\n",
       "      <th>triglyceride</th>\n",
       "      <th>hemoglobin</th>\n",
       "      <th>urine_protein</th>\n",
       "      <th>serum_creatinine</th>\n",
       "      <th>SGOT_AST</th>\n",
       "      <th>SGOT_ALT</th>\n",
       "      <th>gamma_GTP</th>\n",
       "      <th>SMK_stat_type_cd</th>\n",
       "    </tr>\n",
       "  </thead>\n",
       "  <tbody>\n",
       "    <tr>\n",
       "      <th>count</th>\n",
       "      <td>991346.000000</td>\n",
       "      <td>991346.000000</td>\n",
       "      <td>991346.000000</td>\n",
       "      <td>991346.000000</td>\n",
       "      <td>991346.000000</td>\n",
       "      <td>991346.000000</td>\n",
       "      <td>991346.000000</td>\n",
       "      <td>991346.000000</td>\n",
       "      <td>991346.000000</td>\n",
       "      <td>991346.000000</td>\n",
       "      <td>...</td>\n",
       "      <td>991346.000000</td>\n",
       "      <td>991346.000000</td>\n",
       "      <td>991346.000000</td>\n",
       "      <td>991346.000000</td>\n",
       "      <td>991346.000000</td>\n",
       "      <td>991346.000000</td>\n",
       "      <td>991346.000000</td>\n",
       "      <td>991346.000000</td>\n",
       "      <td>991346.000000</td>\n",
       "      <td>991346.000000</td>\n",
       "    </tr>\n",
       "    <tr>\n",
       "      <th>mean</th>\n",
       "      <td>47.614491</td>\n",
       "      <td>162.240625</td>\n",
       "      <td>63.284050</td>\n",
       "      <td>81.233358</td>\n",
       "      <td>0.980834</td>\n",
       "      <td>0.978429</td>\n",
       "      <td>1.031495</td>\n",
       "      <td>1.030476</td>\n",
       "      <td>122.432498</td>\n",
       "      <td>76.052627</td>\n",
       "      <td>...</td>\n",
       "      <td>56.936800</td>\n",
       "      <td>113.037692</td>\n",
       "      <td>132.141751</td>\n",
       "      <td>14.229824</td>\n",
       "      <td>1.094224</td>\n",
       "      <td>0.860467</td>\n",
       "      <td>25.989308</td>\n",
       "      <td>25.755051</td>\n",
       "      <td>37.136347</td>\n",
       "      <td>1.608122</td>\n",
       "    </tr>\n",
       "    <tr>\n",
       "      <th>std</th>\n",
       "      <td>14.181339</td>\n",
       "      <td>9.282957</td>\n",
       "      <td>12.514241</td>\n",
       "      <td>11.850323</td>\n",
       "      <td>0.605949</td>\n",
       "      <td>0.604774</td>\n",
       "      <td>0.174650</td>\n",
       "      <td>0.171892</td>\n",
       "      <td>14.543148</td>\n",
       "      <td>9.889365</td>\n",
       "      <td>...</td>\n",
       "      <td>17.238479</td>\n",
       "      <td>35.842812</td>\n",
       "      <td>102.196985</td>\n",
       "      <td>1.584929</td>\n",
       "      <td>0.437724</td>\n",
       "      <td>0.480530</td>\n",
       "      <td>23.493386</td>\n",
       "      <td>26.308599</td>\n",
       "      <td>50.424153</td>\n",
       "      <td>0.818507</td>\n",
       "    </tr>\n",
       "    <tr>\n",
       "      <th>min</th>\n",
       "      <td>20.000000</td>\n",
       "      <td>130.000000</td>\n",
       "      <td>25.000000</td>\n",
       "      <td>8.000000</td>\n",
       "      <td>0.100000</td>\n",
       "      <td>0.100000</td>\n",
       "      <td>1.000000</td>\n",
       "      <td>1.000000</td>\n",
       "      <td>67.000000</td>\n",
       "      <td>32.000000</td>\n",
       "      <td>...</td>\n",
       "      <td>1.000000</td>\n",
       "      <td>1.000000</td>\n",
       "      <td>1.000000</td>\n",
       "      <td>1.000000</td>\n",
       "      <td>1.000000</td>\n",
       "      <td>0.100000</td>\n",
       "      <td>1.000000</td>\n",
       "      <td>1.000000</td>\n",
       "      <td>1.000000</td>\n",
       "      <td>1.000000</td>\n",
       "    </tr>\n",
       "    <tr>\n",
       "      <th>25%</th>\n",
       "      <td>35.000000</td>\n",
       "      <td>155.000000</td>\n",
       "      <td>55.000000</td>\n",
       "      <td>74.100000</td>\n",
       "      <td>0.700000</td>\n",
       "      <td>0.700000</td>\n",
       "      <td>1.000000</td>\n",
       "      <td>1.000000</td>\n",
       "      <td>112.000000</td>\n",
       "      <td>70.000000</td>\n",
       "      <td>...</td>\n",
       "      <td>46.000000</td>\n",
       "      <td>89.000000</td>\n",
       "      <td>73.000000</td>\n",
       "      <td>13.200000</td>\n",
       "      <td>1.000000</td>\n",
       "      <td>0.700000</td>\n",
       "      <td>19.000000</td>\n",
       "      <td>15.000000</td>\n",
       "      <td>16.000000</td>\n",
       "      <td>1.000000</td>\n",
       "    </tr>\n",
       "    <tr>\n",
       "      <th>50%</th>\n",
       "      <td>45.000000</td>\n",
       "      <td>160.000000</td>\n",
       "      <td>60.000000</td>\n",
       "      <td>81.000000</td>\n",
       "      <td>1.000000</td>\n",
       "      <td>1.000000</td>\n",
       "      <td>1.000000</td>\n",
       "      <td>1.000000</td>\n",
       "      <td>120.000000</td>\n",
       "      <td>76.000000</td>\n",
       "      <td>...</td>\n",
       "      <td>55.000000</td>\n",
       "      <td>111.000000</td>\n",
       "      <td>106.000000</td>\n",
       "      <td>14.300000</td>\n",
       "      <td>1.000000</td>\n",
       "      <td>0.800000</td>\n",
       "      <td>23.000000</td>\n",
       "      <td>20.000000</td>\n",
       "      <td>23.000000</td>\n",
       "      <td>1.000000</td>\n",
       "    </tr>\n",
       "    <tr>\n",
       "      <th>75%</th>\n",
       "      <td>60.000000</td>\n",
       "      <td>170.000000</td>\n",
       "      <td>70.000000</td>\n",
       "      <td>87.800000</td>\n",
       "      <td>1.200000</td>\n",
       "      <td>1.200000</td>\n",
       "      <td>1.000000</td>\n",
       "      <td>1.000000</td>\n",
       "      <td>131.000000</td>\n",
       "      <td>82.000000</td>\n",
       "      <td>...</td>\n",
       "      <td>66.000000</td>\n",
       "      <td>135.000000</td>\n",
       "      <td>159.000000</td>\n",
       "      <td>15.400000</td>\n",
       "      <td>1.000000</td>\n",
       "      <td>1.000000</td>\n",
       "      <td>28.000000</td>\n",
       "      <td>29.000000</td>\n",
       "      <td>39.000000</td>\n",
       "      <td>2.000000</td>\n",
       "    </tr>\n",
       "    <tr>\n",
       "      <th>max</th>\n",
       "      <td>85.000000</td>\n",
       "      <td>190.000000</td>\n",
       "      <td>140.000000</td>\n",
       "      <td>999.000000</td>\n",
       "      <td>9.900000</td>\n",
       "      <td>9.900000</td>\n",
       "      <td>2.000000</td>\n",
       "      <td>2.000000</td>\n",
       "      <td>273.000000</td>\n",
       "      <td>185.000000</td>\n",
       "      <td>...</td>\n",
       "      <td>8110.000000</td>\n",
       "      <td>5119.000000</td>\n",
       "      <td>9490.000000</td>\n",
       "      <td>25.000000</td>\n",
       "      <td>6.000000</td>\n",
       "      <td>98.000000</td>\n",
       "      <td>9999.000000</td>\n",
       "      <td>7210.000000</td>\n",
       "      <td>999.000000</td>\n",
       "      <td>3.000000</td>\n",
       "    </tr>\n",
       "  </tbody>\n",
       "</table>\n",
       "<p>8 rows × 22 columns</p>\n",
       "</div>"
      ],
      "text/plain": [
       "                 age         height         weight      waistline  \\\n",
       "count  991346.000000  991346.000000  991346.000000  991346.000000   \n",
       "mean       47.614491     162.240625      63.284050      81.233358   \n",
       "std        14.181339       9.282957      12.514241      11.850323   \n",
       "min        20.000000     130.000000      25.000000       8.000000   \n",
       "25%        35.000000     155.000000      55.000000      74.100000   \n",
       "50%        45.000000     160.000000      60.000000      81.000000   \n",
       "75%        60.000000     170.000000      70.000000      87.800000   \n",
       "max        85.000000     190.000000     140.000000     999.000000   \n",
       "\n",
       "          sight_left    sight_right      hear_left     hear_right  \\\n",
       "count  991346.000000  991346.000000  991346.000000  991346.000000   \n",
       "mean        0.980834       0.978429       1.031495       1.030476   \n",
       "std         0.605949       0.604774       0.174650       0.171892   \n",
       "min         0.100000       0.100000       1.000000       1.000000   \n",
       "25%         0.700000       0.700000       1.000000       1.000000   \n",
       "50%         1.000000       1.000000       1.000000       1.000000   \n",
       "75%         1.200000       1.200000       1.000000       1.000000   \n",
       "max         9.900000       9.900000       2.000000       2.000000   \n",
       "\n",
       "                 SBP            DBP  ...      HDL_chole      LDL_chole  \\\n",
       "count  991346.000000  991346.000000  ...  991346.000000  991346.000000   \n",
       "mean      122.432498      76.052627  ...      56.936800     113.037692   \n",
       "std        14.543148       9.889365  ...      17.238479      35.842812   \n",
       "min        67.000000      32.000000  ...       1.000000       1.000000   \n",
       "25%       112.000000      70.000000  ...      46.000000      89.000000   \n",
       "50%       120.000000      76.000000  ...      55.000000     111.000000   \n",
       "75%       131.000000      82.000000  ...      66.000000     135.000000   \n",
       "max       273.000000     185.000000  ...    8110.000000    5119.000000   \n",
       "\n",
       "        triglyceride     hemoglobin  urine_protein  serum_creatinine  \\\n",
       "count  991346.000000  991346.000000  991346.000000     991346.000000   \n",
       "mean      132.141751      14.229824       1.094224          0.860467   \n",
       "std       102.196985       1.584929       0.437724          0.480530   \n",
       "min         1.000000       1.000000       1.000000          0.100000   \n",
       "25%        73.000000      13.200000       1.000000          0.700000   \n",
       "50%       106.000000      14.300000       1.000000          0.800000   \n",
       "75%       159.000000      15.400000       1.000000          1.000000   \n",
       "max      9490.000000      25.000000       6.000000         98.000000   \n",
       "\n",
       "            SGOT_AST       SGOT_ALT      gamma_GTP  SMK_stat_type_cd  \n",
       "count  991346.000000  991346.000000  991346.000000     991346.000000  \n",
       "mean       25.989308      25.755051      37.136347          1.608122  \n",
       "std        23.493386      26.308599      50.424153          0.818507  \n",
       "min         1.000000       1.000000       1.000000          1.000000  \n",
       "25%        19.000000      15.000000      16.000000          1.000000  \n",
       "50%        23.000000      20.000000      23.000000          1.000000  \n",
       "75%        28.000000      29.000000      39.000000          2.000000  \n",
       "max      9999.000000    7210.000000     999.000000          3.000000  \n",
       "\n",
       "[8 rows x 22 columns]"
      ]
     },
     "execution_count": 27,
     "metadata": {},
     "output_type": "execute_result"
    }
   ],
   "source": [
    "data.describe()"
   ]
  },
  {
   "cell_type": "code",
   "execution_count": 28,
   "metadata": {},
   "outputs": [
    {
     "data": {
      "text/plain": [
       "SMK_stat_type_cd\n",
       "1    602441\n",
       "3    213954\n",
       "2    174951\n",
       "Name: count, dtype: int64"
      ]
     },
     "execution_count": 28,
     "metadata": {},
     "output_type": "execute_result"
    }
   ],
   "source": [
    "data['SMK_stat_type_cd'].value_counts()"
   ]
  },
  {
   "cell_type": "code",
   "execution_count": 29,
   "metadata": {},
   "outputs": [],
   "source": [
    "data.drop(['sex','DRK_YN','height', 'sight_left', 'sight_right', 'hear_left', 'hear_right', 'urine_protein'], inplace=True, axis=1)\n"
   ]
  },
  {
   "cell_type": "code",
   "execution_count": 30,
   "metadata": {},
   "outputs": [
    {
     "data": {
      "text/html": [
       "<div>\n",
       "<style scoped>\n",
       "    .dataframe tbody tr th:only-of-type {\n",
       "        vertical-align: middle;\n",
       "    }\n",
       "\n",
       "    .dataframe tbody tr th {\n",
       "        vertical-align: top;\n",
       "    }\n",
       "\n",
       "    .dataframe thead th {\n",
       "        text-align: right;\n",
       "    }\n",
       "</style>\n",
       "<table border=\"1\" class=\"dataframe\">\n",
       "  <thead>\n",
       "    <tr style=\"text-align: right;\">\n",
       "      <th></th>\n",
       "      <th>age</th>\n",
       "      <th>weight</th>\n",
       "      <th>waistline</th>\n",
       "      <th>SBP</th>\n",
       "      <th>DBP</th>\n",
       "      <th>BLDS</th>\n",
       "      <th>tot_chole</th>\n",
       "      <th>HDL_chole</th>\n",
       "      <th>LDL_chole</th>\n",
       "      <th>triglyceride</th>\n",
       "      <th>hemoglobin</th>\n",
       "      <th>serum_creatinine</th>\n",
       "      <th>SGOT_AST</th>\n",
       "      <th>SGOT_ALT</th>\n",
       "      <th>gamma_GTP</th>\n",
       "    </tr>\n",
       "    <tr>\n",
       "      <th>SMK_stat_type_cd</th>\n",
       "      <th></th>\n",
       "      <th></th>\n",
       "      <th></th>\n",
       "      <th></th>\n",
       "      <th></th>\n",
       "      <th></th>\n",
       "      <th></th>\n",
       "      <th></th>\n",
       "      <th></th>\n",
       "      <th></th>\n",
       "      <th></th>\n",
       "      <th></th>\n",
       "      <th></th>\n",
       "      <th></th>\n",
       "      <th></th>\n",
       "    </tr>\n",
       "  </thead>\n",
       "  <tbody>\n",
       "    <tr>\n",
       "      <th>1</th>\n",
       "      <td>48.455401</td>\n",
       "      <td>59.306272</td>\n",
       "      <td>79.001125</td>\n",
       "      <td>121.177911</td>\n",
       "      <td>74.916407</td>\n",
       "      <td>98.471651</td>\n",
       "      <td>195.336906</td>\n",
       "      <td>59.258090</td>\n",
       "      <td>113.364130</td>\n",
       "      <td>115.055730</td>\n",
       "      <td>13.638717</td>\n",
       "      <td>0.803322</td>\n",
       "      <td>24.680925</td>\n",
       "      <td>22.813524</td>\n",
       "      <td>27.426485</td>\n",
       "    </tr>\n",
       "    <tr>\n",
       "      <th>2</th>\n",
       "      <td>50.112632</td>\n",
       "      <td>69.406891</td>\n",
       "      <td>85.312877</td>\n",
       "      <td>125.345011</td>\n",
       "      <td>78.059588</td>\n",
       "      <td>104.173711</td>\n",
       "      <td>194.951243</td>\n",
       "      <td>53.824900</td>\n",
       "      <td>112.836686</td>\n",
       "      <td>147.418752</td>\n",
       "      <td>14.967969</td>\n",
       "      <td>0.965003</td>\n",
       "      <td>28.196804</td>\n",
       "      <td>29.959320</td>\n",
       "      <td>47.043515</td>\n",
       "    </tr>\n",
       "    <tr>\n",
       "      <th>3</th>\n",
       "      <td>43.203960</td>\n",
       "      <td>69.477808</td>\n",
       "      <td>84.182930</td>\n",
       "      <td>123.583527</td>\n",
       "      <td>77.610842</td>\n",
       "      <td>102.857245</td>\n",
       "      <td>196.672154</td>\n",
       "      <td>52.945241</td>\n",
       "      <td>112.282888</td>\n",
       "      <td>167.759654</td>\n",
       "      <td>15.290647</td>\n",
       "      <td>0.935891</td>\n",
       "      <td>27.868313</td>\n",
       "      <td>30.599811</td>\n",
       "      <td>56.375763</td>\n",
       "    </tr>\n",
       "  </tbody>\n",
       "</table>\n",
       "</div>"
      ],
      "text/plain": [
       "                        age     weight  waistline         SBP        DBP  \\\n",
       "SMK_stat_type_cd                                                           \n",
       "1                 48.455401  59.306272  79.001125  121.177911  74.916407   \n",
       "2                 50.112632  69.406891  85.312877  125.345011  78.059588   \n",
       "3                 43.203960  69.477808  84.182930  123.583527  77.610842   \n",
       "\n",
       "                        BLDS   tot_chole  HDL_chole   LDL_chole  triglyceride  \\\n",
       "SMK_stat_type_cd                                                                \n",
       "1                  98.471651  195.336906  59.258090  113.364130    115.055730   \n",
       "2                 104.173711  194.951243  53.824900  112.836686    147.418752   \n",
       "3                 102.857245  196.672154  52.945241  112.282888    167.759654   \n",
       "\n",
       "                  hemoglobin  serum_creatinine   SGOT_AST   SGOT_ALT  \\\n",
       "SMK_stat_type_cd                                                       \n",
       "1                  13.638717          0.803322  24.680925  22.813524   \n",
       "2                  14.967969          0.965003  28.196804  29.959320   \n",
       "3                  15.290647          0.935891  27.868313  30.599811   \n",
       "\n",
       "                  gamma_GTP  \n",
       "SMK_stat_type_cd             \n",
       "1                 27.426485  \n",
       "2                 47.043515  \n",
       "3                 56.375763  "
      ]
     },
     "execution_count": 30,
     "metadata": {},
     "output_type": "execute_result"
    }
   ],
   "source": [
    "data.groupby('SMK_stat_type_cd').mean()"
   ]
  },
  {
   "cell_type": "code",
   "execution_count": 31,
   "metadata": {},
   "outputs": [],
   "source": [
    "y= data.loc[:,\"SMK_stat_type_cd\"]\n",
    "x=data.loc[:, ('age', 'weight', 'waistline','SBP', 'DBP','BLDS','tot_chole','HDL_chole','LDL_chole','triglyceride','hemoglobin','serum_creatinine','gamma_GTP')]\n",
    "x1=data.loc[:,('triglyceride')]\n",
    "x2=data.loc[:,('gamma_GTP')]"
   ]
  },
  {
   "cell_type": "code",
   "execution_count": 32,
   "metadata": {},
   "outputs": [],
   "source": [
    "#normalising X \n",
    "\n",
    "import scipy\n",
    "X=scipy.stats.zscore(x)"
   ]
  },
  {
   "cell_type": "code",
   "execution_count": 33,
   "metadata": {},
   "outputs": [
    {
     "name": "stdout",
     "output_type": "stream",
     "text": [
      "             age    weight  waistline       SBP       DBP      BLDS  \\\n",
      "0      -0.889514  0.936210   0.739781 -0.167261  0.399153 -0.058910   \n",
      "1      -1.242090  1.335755   0.655395  0.520349  0.601391  0.230586   \n",
      "2      -0.536938  0.936210   0.824167 -0.167261 -0.612034 -0.100267   \n",
      "3       0.168215  1.335755   0.824167  1.551763  1.106985 -0.224337   \n",
      "4       0.168215 -0.262425  -0.104078  1.070436  0.601391  0.023803   \n",
      "...          ...       ...        ...       ...       ...       ...   \n",
      "991341 -0.184361  1.335755   0.916992 -0.579826  0.399153 -0.513833   \n",
      "991342 -0.889514  0.936210   0.402238 -0.236022  0.702510 -0.720616   \n",
      "991343 -0.536938 -1.061515  -1.116709 -0.854870 -0.612034 -0.431120   \n",
      "991344 -1.594666 -0.262425  -0.779165 -0.236022 -0.207559 -1.299608   \n",
      "991345  0.168215  0.536665   0.781974  0.726631  0.298035 -0.058910   \n",
      "\n",
      "        tot_chole  HDL_chole  LDL_chole  triglyceride  hemoglobin  \\\n",
      "0       -0.066141  -0.518422   0.361643     -0.392788    1.810919   \n",
      "1        0.839184  -0.112353   0.975435     -0.109022    0.990693   \n",
      "2       -1.540528  -0.924490  -1.089136     -0.275368    0.990693   \n",
      "3        0.140790   1.105852  -0.252148     -0.255798    2.126391   \n",
      "4        0.089058   0.235705   0.110547     -0.275368   -0.271194   \n",
      "...           ...        ...        ...           ...         ...   \n",
      "991341   0.063191  -0.634441   0.333744     -0.001387    0.485938   \n",
      "991342  -1.618127  -0.982500  -0.810140     -0.852685    0.990693   \n",
      "991343   0.244256   2.266048  -1.005438      0.243239    0.044277   \n",
      "991344  -1.902658  -1.098520  -1.117036     -0.774404    0.170466   \n",
      "991345   0.761585  -1.040510   1.114933      0.301949    0.990693   \n",
      "\n",
      "        serum_creatinine  gamma_GTP  \n",
      "0               0.290374   0.056791  \n",
      "1               0.082270  -0.201022  \n",
      "2               0.082270   0.612081  \n",
      "3               0.498477  -0.379508  \n",
      "4              -0.125833  -0.240685  \n",
      "...                  ...        ...  \n",
      "991341          0.290374  -0.201022  \n",
      "991342          0.498477  -0.439003  \n",
      "991343         -0.125833  -0.399340  \n",
      "991344         -0.125833  -0.399340  \n",
      "991345          0.082270  -0.022536  \n",
      "\n",
      "[991346 rows x 13 columns]\n"
     ]
    }
   ],
   "source": [
    "print(X)"
   ]
  },
  {
   "cell_type": "code",
   "execution_count": 34,
   "metadata": {},
   "outputs": [
    {
     "data": {
      "text/plain": [
       "((991346, 13), (991346,))"
      ]
     },
     "execution_count": 34,
     "metadata": {},
     "output_type": "execute_result"
    }
   ],
   "source": [
    "x.shape, y.shape"
   ]
  },
  {
   "cell_type": "code",
   "execution_count": 35,
   "metadata": {},
   "outputs": [],
   "source": [
    "from sklearn.model_selection import train_test_split"
   ]
  },
  {
   "cell_type": "code",
   "execution_count": 36,
   "metadata": {},
   "outputs": [],
   "source": [
    "x_train, x_test, y_train, y_test = train_test_split(x,y,test_size=0.2,random_state=99)"
   ]
  },
  {
   "cell_type": "code",
   "execution_count": 37,
   "metadata": {},
   "outputs": [
    {
     "data": {
      "text/plain": [
       "((793076, 13), (793076,))"
      ]
     },
     "execution_count": 37,
     "metadata": {},
     "output_type": "execute_result"
    }
   ],
   "source": [
    "x_train.shape, y_train.shape"
   ]
  },
  {
   "cell_type": "code",
   "execution_count": 38,
   "metadata": {},
   "outputs": [],
   "source": [
    "from sklearn.linear_model import LinearRegression"
   ]
  },
  {
   "cell_type": "code",
   "execution_count": 39,
   "metadata": {},
   "outputs": [],
   "source": [
    "le = LinearRegression()"
   ]
  },
  {
   "cell_type": "code",
   "execution_count": 40,
   "metadata": {},
   "outputs": [
    {
     "data": {
      "text/html": [
       "<style>#sk-container-id-2 {color: black;}#sk-container-id-2 pre{padding: 0;}#sk-container-id-2 div.sk-toggleable {background-color: white;}#sk-container-id-2 label.sk-toggleable__label {cursor: pointer;display: block;width: 100%;margin-bottom: 0;padding: 0.3em;box-sizing: border-box;text-align: center;}#sk-container-id-2 label.sk-toggleable__label-arrow:before {content: \"▸\";float: left;margin-right: 0.25em;color: #696969;}#sk-container-id-2 label.sk-toggleable__label-arrow:hover:before {color: black;}#sk-container-id-2 div.sk-estimator:hover label.sk-toggleable__label-arrow:before {color: black;}#sk-container-id-2 div.sk-toggleable__content {max-height: 0;max-width: 0;overflow: hidden;text-align: left;background-color: #f0f8ff;}#sk-container-id-2 div.sk-toggleable__content pre {margin: 0.2em;color: black;border-radius: 0.25em;background-color: #f0f8ff;}#sk-container-id-2 input.sk-toggleable__control:checked~div.sk-toggleable__content {max-height: 200px;max-width: 100%;overflow: auto;}#sk-container-id-2 input.sk-toggleable__control:checked~label.sk-toggleable__label-arrow:before {content: \"▾\";}#sk-container-id-2 div.sk-estimator input.sk-toggleable__control:checked~label.sk-toggleable__label {background-color: #d4ebff;}#sk-container-id-2 div.sk-label input.sk-toggleable__control:checked~label.sk-toggleable__label {background-color: #d4ebff;}#sk-container-id-2 input.sk-hidden--visually {border: 0;clip: rect(1px 1px 1px 1px);clip: rect(1px, 1px, 1px, 1px);height: 1px;margin: -1px;overflow: hidden;padding: 0;position: absolute;width: 1px;}#sk-container-id-2 div.sk-estimator {font-family: monospace;background-color: #f0f8ff;border: 1px dotted black;border-radius: 0.25em;box-sizing: border-box;margin-bottom: 0.5em;}#sk-container-id-2 div.sk-estimator:hover {background-color: #d4ebff;}#sk-container-id-2 div.sk-parallel-item::after {content: \"\";width: 100%;border-bottom: 1px solid gray;flex-grow: 1;}#sk-container-id-2 div.sk-label:hover label.sk-toggleable__label {background-color: #d4ebff;}#sk-container-id-2 div.sk-serial::before {content: \"\";position: absolute;border-left: 1px solid gray;box-sizing: border-box;top: 0;bottom: 0;left: 50%;z-index: 0;}#sk-container-id-2 div.sk-serial {display: flex;flex-direction: column;align-items: center;background-color: white;padding-right: 0.2em;padding-left: 0.2em;position: relative;}#sk-container-id-2 div.sk-item {position: relative;z-index: 1;}#sk-container-id-2 div.sk-parallel {display: flex;align-items: stretch;justify-content: center;background-color: white;position: relative;}#sk-container-id-2 div.sk-item::before, #sk-container-id-2 div.sk-parallel-item::before {content: \"\";position: absolute;border-left: 1px solid gray;box-sizing: border-box;top: 0;bottom: 0;left: 50%;z-index: -1;}#sk-container-id-2 div.sk-parallel-item {display: flex;flex-direction: column;z-index: 1;position: relative;background-color: white;}#sk-container-id-2 div.sk-parallel-item:first-child::after {align-self: flex-end;width: 50%;}#sk-container-id-2 div.sk-parallel-item:last-child::after {align-self: flex-start;width: 50%;}#sk-container-id-2 div.sk-parallel-item:only-child::after {width: 0;}#sk-container-id-2 div.sk-dashed-wrapped {border: 1px dashed gray;margin: 0 0.4em 0.5em 0.4em;box-sizing: border-box;padding-bottom: 0.4em;background-color: white;}#sk-container-id-2 div.sk-label label {font-family: monospace;font-weight: bold;display: inline-block;line-height: 1.2em;}#sk-container-id-2 div.sk-label-container {text-align: center;}#sk-container-id-2 div.sk-container {/* jupyter's `normalize.less` sets `[hidden] { display: none; }` but bootstrap.min.css set `[hidden] { display: none !important; }` so we also need the `!important` here to be able to override the default hidden behavior on the sphinx rendered scikit-learn.org. See: https://github.com/scikit-learn/scikit-learn/issues/21755 */display: inline-block !important;position: relative;}#sk-container-id-2 div.sk-text-repr-fallback {display: none;}</style><div id=\"sk-container-id-2\" class=\"sk-top-container\"><div class=\"sk-text-repr-fallback\"><pre>LinearRegression()</pre><b>In a Jupyter environment, please rerun this cell to show the HTML representation or trust the notebook. <br />On GitHub, the HTML representation is unable to render, please try loading this page with nbviewer.org.</b></div><div class=\"sk-container\" hidden><div class=\"sk-item\"><div class=\"sk-estimator sk-toggleable\"><input class=\"sk-toggleable__control sk-hidden--visually\" id=\"sk-estimator-id-2\" type=\"checkbox\" checked><label for=\"sk-estimator-id-2\" class=\"sk-toggleable__label sk-toggleable__label-arrow\">LinearRegression</label><div class=\"sk-toggleable__content\"><pre>LinearRegression()</pre></div></div></div></div></div>"
      ],
      "text/plain": [
       "LinearRegression()"
      ]
     },
     "execution_count": 40,
     "metadata": {},
     "output_type": "execute_result"
    }
   ],
   "source": [
    "le.fit(x_train, y_train)"
   ]
  },
  {
   "cell_type": "code",
   "execution_count": 41,
   "metadata": {},
   "outputs": [],
   "source": [
    "y_pred = le.predict(x_test)\n"
   ]
  },
  {
   "cell_type": "code",
   "execution_count": 42,
   "metadata": {},
   "outputs": [
    {
     "data": {
      "text/plain": [
       "array([1.73244647, 1.70674352, 1.90420843, ..., 1.07691505, 1.22894054,\n",
       "       1.38145831])"
      ]
     },
     "execution_count": 42,
     "metadata": {},
     "output_type": "execute_result"
    }
   ],
   "source": [
    "y_pred"
   ]
  },
  {
   "cell_type": "code",
   "execution_count": 43,
   "metadata": {},
   "outputs": [],
   "source": [
    "from sklearn.metrics import mean_squared_error"
   ]
  },
  {
   "cell_type": "code",
   "execution_count": 44,
   "metadata": {},
   "outputs": [
    {
     "data": {
      "text/plain": [
       "0.4980335786601208"
      ]
     },
     "execution_count": 44,
     "metadata": {},
     "output_type": "execute_result"
    }
   ],
   "source": [
    "mean_squared_error(y_test,y_pred)\n"
   ]
  },
  {
   "cell_type": "code",
   "execution_count": 45,
   "metadata": {},
   "outputs": [],
   "source": [
    "if len(x_train) > len(y_train):\n",
    "    x_value = x_train[:len(y_train)]\n",
    "else:\n",
    "    y_train = y_train[:len(x_train)]"
   ]
  },
  {
   "cell_type": "code",
   "execution_count": 46,
   "metadata": {},
   "outputs": [
    {
     "data": {
      "text/plain": [
       "<matplotlib.legend.Legend at 0x2cd762910>"
      ]
     },
     "execution_count": 46,
     "metadata": {},
     "output_type": "execute_result"
    },
    {
     "data": {
      "image/png": "[encoded data removed]",
      "text/plain": [
       "<Figure size 640x480 with 1 Axes>"
      ]
     },
     "metadata": {},
     "output_type": "display_data"
    }
   ],
   "source": [
    "data_truecopy=data.copy()\n",
    "data_truecopy=scipy.stats.zscore(data_truecopy)\n",
    "data_truecopy.groupby('SMK_stat_type_cd')[\"gamma_GTP\"].plot(kind='kde')\n",
    "plt.legend(['A', 'B'], title='Smoker/Non-Smoker')\n"
   ]
  },
  {
   "cell_type": "code",
   "execution_count": 47,
   "metadata": {},
   "outputs": [
    {
     "data": {
      "text/plain": [
       "<matplotlib.legend.Legend at 0x1777f02d0>"
      ]
     },
     "execution_count": 47,
     "metadata": {},
     "output_type": "execute_result"
    },
    {
     "data": {
      "image/png": "[encoded data removed]",
      "text/plain": [
       "<Figure size 640x480 with 1 Axes>"
      ]
     },
     "metadata": {},
     "output_type": "display_data"
    }
   ],
   "source": [
    "data_truecopy=data.copy()\n",
    "data_truecopy=scipy.stats.zscore(data_truecopy)\n",
    "data_truecopy.groupby('SMK_stat_type_cd')[\"triglyceride\"].plot(kind='kde')\n",
    "plt.legend(['A', 'B'], title='Smoker/Non-Smoker')"
   ]
  },
  {
   "cell_type": "code",
   "execution_count": 49,
   "metadata": {},
   "outputs": [
    {
     "data": {
      "text/plain": [
       "<matplotlib.legend.Legend at 0x2cd74bb10>"
      ]
     },
     "execution_count": 49,
     "metadata": {},
     "output_type": "execute_result"
    },
    {
     "data": {
      "image/png": "[encoded data removed]",
      "text/plain": [
       "<Figure size 640x480 with 1 Axes>"
      ]
     },
     "metadata": {},
     "output_type": "display_data"
    }
   ],
   "source": [
    "data_truecopy=data.copy()\n",
    "data_truecopy=scipy.stats.zscore(data_truecopy)\n",
    "data_truecopy.groupby('SMK_stat_type_cd')[\"hemoglobin\"].plot(kind='kde')\n",
    "plt.legend(['A', 'B'], title='Smoker/Non-Smoker')"
   ]
  }
 ],
 "metadata": {
  "kernelspec": {
   "display_name": "Python 3",
   "language": "python",
   "name": "python3"
  },
  "language_info": {
   "codemirror_mode": {
    "name": "ipython",
    "version": 3
   },
   "file_extension": ".py",
   "mimetype": "text/x-python",
   "name": "python",
   "nbconvert_exporter": "python",
   "pygments_lexer": "ipython3",
   "version": "3.11.5"
  },
  "orig_nbformat": 4
 },
 "nbformat": 4,
 "nbformat_minor": 2
}
