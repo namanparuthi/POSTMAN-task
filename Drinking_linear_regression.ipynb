{
 "cells": [
  {
   "cell_type": "code",
   "execution_count": 1,
   "metadata": {},
   "outputs": [],
   "source": [
    "import pandas as pd\n",
    "import numpy as np\n",
    "import matplotlib.pyplot as plt\n",
    "from sklearn.linear_model import SGDClassifier as classifier\n"
   ]
  },
  {
   "cell_type": "code",
   "execution_count": 2,
   "metadata": {},
   "outputs": [],
   "source": [
    "data= pd.read_csv(r\"/Users/namanparuthi/Downloads/smoking_driking_dataset_Ver01.csv\")"
   ]
  },
  {
   "cell_type": "code",
   "execution_count": 3,
   "metadata": {},
   "outputs": [
    {
     "data": {
      "text/html": [
       "<div>\n",
       "<style scoped>\n",
       "    .dataframe tbody tr th:only-of-type {\n",
       "        vertical-align: middle;\n",
       "    }\n",
       "\n",
       "    .dataframe tbody tr th {\n",
       "        vertical-align: top;\n",
       "    }\n",
       "\n",
       "    .dataframe thead th {\n",
       "        text-align: right;\n",
       "    }\n",
       "</style>\n",
       "<table border=\"1\" class=\"dataframe\">\n",
       "  <thead>\n",
       "    <tr style=\"text-align: right;\">\n",
       "      <th></th>\n",
       "      <th>age</th>\n",
       "      <th>height</th>\n",
       "      <th>weight</th>\n",
       "      <th>waistline</th>\n",
       "      <th>sight_left</th>\n",
       "      <th>sight_right</th>\n",
       "      <th>hear_left</th>\n",
       "      <th>hear_right</th>\n",
       "      <th>SBP</th>\n",
       "      <th>DBP</th>\n",
       "      <th>...</th>\n",
       "      <th>HDL_chole</th>\n",
       "      <th>LDL_chole</th>\n",
       "      <th>triglyceride</th>\n",
       "      <th>hemoglobin</th>\n",
       "      <th>urine_protein</th>\n",
       "      <th>serum_creatinine</th>\n",
       "      <th>SGOT_AST</th>\n",
       "      <th>SGOT_ALT</th>\n",
       "      <th>gamma_GTP</th>\n",
       "      <th>SMK_stat_type_cd</th>\n",
       "    </tr>\n",
       "  </thead>\n",
       "  <tbody>\n",
       "    <tr>\n",
       "      <th>count</th>\n",
       "      <td>991346.000000</td>\n",
       "      <td>991346.000000</td>\n",
       "      <td>991346.000000</td>\n",
       "      <td>991346.000000</td>\n",
       "      <td>991346.000000</td>\n",
       "      <td>991346.000000</td>\n",
       "      <td>991346.000000</td>\n",
       "      <td>991346.000000</td>\n",
       "      <td>991346.000000</td>\n",
       "      <td>991346.000000</td>\n",
       "      <td>...</td>\n",
       "      <td>991346.000000</td>\n",
       "      <td>991346.000000</td>\n",
       "      <td>991346.000000</td>\n",
       "      <td>991346.000000</td>\n",
       "      <td>991346.000000</td>\n",
       "      <td>991346.000000</td>\n",
       "      <td>991346.000000</td>\n",
       "      <td>991346.000000</td>\n",
       "      <td>991346.000000</td>\n",
       "      <td>991346.000000</td>\n",
       "    </tr>\n",
       "    <tr>\n",
       "      <th>mean</th>\n",
       "      <td>47.614491</td>\n",
       "      <td>162.240625</td>\n",
       "      <td>63.284050</td>\n",
       "      <td>81.233358</td>\n",
       "      <td>0.980834</td>\n",
       "      <td>0.978429</td>\n",
       "      <td>1.031495</td>\n",
       "      <td>1.030476</td>\n",
       "      <td>122.432498</td>\n",
       "      <td>76.052627</td>\n",
       "      <td>...</td>\n",
       "      <td>56.936800</td>\n",
       "      <td>113.037692</td>\n",
       "      <td>132.141751</td>\n",
       "      <td>14.229824</td>\n",
       "      <td>1.094224</td>\n",
       "      <td>0.860467</td>\n",
       "      <td>25.989308</td>\n",
       "      <td>25.755051</td>\n",
       "      <td>37.136347</td>\n",
       "      <td>1.608122</td>\n",
       "    </tr>\n",
       "    <tr>\n",
       "      <th>std</th>\n",
       "      <td>14.181339</td>\n",
       "      <td>9.282957</td>\n",
       "      <td>12.514241</td>\n",
       "      <td>11.850323</td>\n",
       "      <td>0.605949</td>\n",
       "      <td>0.604774</td>\n",
       "      <td>0.174650</td>\n",
       "      <td>0.171892</td>\n",
       "      <td>14.543148</td>\n",
       "      <td>9.889365</td>\n",
       "      <td>...</td>\n",
       "      <td>17.238479</td>\n",
       "      <td>35.842812</td>\n",
       "      <td>102.196985</td>\n",
       "      <td>1.584929</td>\n",
       "      <td>0.437724</td>\n",
       "      <td>0.480530</td>\n",
       "      <td>23.493386</td>\n",
       "      <td>26.308599</td>\n",
       "      <td>50.424153</td>\n",
       "      <td>0.818507</td>\n",
       "    </tr>\n",
       "    <tr>\n",
       "      <th>min</th>\n",
       "      <td>20.000000</td>\n",
       "      <td>130.000000</td>\n",
       "      <td>25.000000</td>\n",
       "      <td>8.000000</td>\n",
       "      <td>0.100000</td>\n",
       "      <td>0.100000</td>\n",
       "      <td>1.000000</td>\n",
       "      <td>1.000000</td>\n",
       "      <td>67.000000</td>\n",
       "      <td>32.000000</td>\n",
       "      <td>...</td>\n",
       "      <td>1.000000</td>\n",
       "      <td>1.000000</td>\n",
       "      <td>1.000000</td>\n",
       "      <td>1.000000</td>\n",
       "      <td>1.000000</td>\n",
       "      <td>0.100000</td>\n",
       "      <td>1.000000</td>\n",
       "      <td>1.000000</td>\n",
       "      <td>1.000000</td>\n",
       "      <td>1.000000</td>\n",
       "    </tr>\n",
       "    <tr>\n",
       "      <th>25%</th>\n",
       "      <td>35.000000</td>\n",
       "      <td>155.000000</td>\n",
       "      <td>55.000000</td>\n",
       "      <td>74.100000</td>\n",
       "      <td>0.700000</td>\n",
       "      <td>0.700000</td>\n",
       "      <td>1.000000</td>\n",
       "      <td>1.000000</td>\n",
       "      <td>112.000000</td>\n",
       "      <td>70.000000</td>\n",
       "      <td>...</td>\n",
       "      <td>46.000000</td>\n",
       "      <td>89.000000</td>\n",
       "      <td>73.000000</td>\n",
       "      <td>13.200000</td>\n",
       "      <td>1.000000</td>\n",
       "      <td>0.700000</td>\n",
       "      <td>19.000000</td>\n",
       "      <td>15.000000</td>\n",
       "      <td>16.000000</td>\n",
       "      <td>1.000000</td>\n",
       "    </tr>\n",
       "    <tr>\n",
       "      <th>50%</th>\n",
       "      <td>45.000000</td>\n",
       "      <td>160.000000</td>\n",
       "      <td>60.000000</td>\n",
       "      <td>81.000000</td>\n",
       "      <td>1.000000</td>\n",
       "      <td>1.000000</td>\n",
       "      <td>1.000000</td>\n",
       "      <td>1.000000</td>\n",
       "      <td>120.000000</td>\n",
       "      <td>76.000000</td>\n",
       "      <td>...</td>\n",
       "      <td>55.000000</td>\n",
       "      <td>111.000000</td>\n",
       "      <td>106.000000</td>\n",
       "      <td>14.300000</td>\n",
       "      <td>1.000000</td>\n",
       "      <td>0.800000</td>\n",
       "      <td>23.000000</td>\n",
       "      <td>20.000000</td>\n",
       "      <td>23.000000</td>\n",
       "      <td>1.000000</td>\n",
       "    </tr>\n",
       "    <tr>\n",
       "      <th>75%</th>\n",
       "      <td>60.000000</td>\n",
       "      <td>170.000000</td>\n",
       "      <td>70.000000</td>\n",
       "      <td>87.800000</td>\n",
       "      <td>1.200000</td>\n",
       "      <td>1.200000</td>\n",
       "      <td>1.000000</td>\n",
       "      <td>1.000000</td>\n",
       "      <td>131.000000</td>\n",
       "      <td>82.000000</td>\n",
       "      <td>...</td>\n",
       "      <td>66.000000</td>\n",
       "      <td>135.000000</td>\n",
       "      <td>159.000000</td>\n",
       "      <td>15.400000</td>\n",
       "      <td>1.000000</td>\n",
       "      <td>1.000000</td>\n",
       "      <td>28.000000</td>\n",
       "      <td>29.000000</td>\n",
       "      <td>39.000000</td>\n",
       "      <td>2.000000</td>\n",
       "    </tr>\n",
       "    <tr>\n",
       "      <th>max</th>\n",
       "      <td>85.000000</td>\n",
       "      <td>190.000000</td>\n",
       "      <td>140.000000</td>\n",
       "      <td>999.000000</td>\n",
       "      <td>9.900000</td>\n",
       "      <td>9.900000</td>\n",
       "      <td>2.000000</td>\n",
       "      <td>2.000000</td>\n",
       "      <td>273.000000</td>\n",
       "      <td>185.000000</td>\n",
       "      <td>...</td>\n",
       "      <td>8110.000000</td>\n",
       "      <td>5119.000000</td>\n",
       "      <td>9490.000000</td>\n",
       "      <td>25.000000</td>\n",
       "      <td>6.000000</td>\n",
       "      <td>98.000000</td>\n",
       "      <td>9999.000000</td>\n",
       "      <td>7210.000000</td>\n",
       "      <td>999.000000</td>\n",
       "      <td>3.000000</td>\n",
       "    </tr>\n",
       "  </tbody>\n",
       "</table>\n",
       "<p>8 rows × 22 columns</p>\n",
       "</div>"
      ],
      "text/plain": [
       "                 age         height         weight      waistline  \\\n",
       "count  991346.000000  991346.000000  991346.000000  991346.000000   \n",
       "mean       47.614491     162.240625      63.284050      81.233358   \n",
       "std        14.181339       9.282957      12.514241      11.850323   \n",
       "min        20.000000     130.000000      25.000000       8.000000   \n",
       "25%        35.000000     155.000000      55.000000      74.100000   \n",
       "50%        45.000000     160.000000      60.000000      81.000000   \n",
       "75%        60.000000     170.000000      70.000000      87.800000   \n",
       "max        85.000000     190.000000     140.000000     999.000000   \n",
       "\n",
       "          sight_left    sight_right      hear_left     hear_right  \\\n",
       "count  991346.000000  991346.000000  991346.000000  991346.000000   \n",
       "mean        0.980834       0.978429       1.031495       1.030476   \n",
       "std         0.605949       0.604774       0.174650       0.171892   \n",
       "min         0.100000       0.100000       1.000000       1.000000   \n",
       "25%         0.700000       0.700000       1.000000       1.000000   \n",
       "50%         1.000000       1.000000       1.000000       1.000000   \n",
       "75%         1.200000       1.200000       1.000000       1.000000   \n",
       "max         9.900000       9.900000       2.000000       2.000000   \n",
       "\n",
       "                 SBP            DBP  ...      HDL_chole      LDL_chole  \\\n",
       "count  991346.000000  991346.000000  ...  991346.000000  991346.000000   \n",
       "mean      122.432498      76.052627  ...      56.936800     113.037692   \n",
       "std        14.543148       9.889365  ...      17.238479      35.842812   \n",
       "min        67.000000      32.000000  ...       1.000000       1.000000   \n",
       "25%       112.000000      70.000000  ...      46.000000      89.000000   \n",
       "50%       120.000000      76.000000  ...      55.000000     111.000000   \n",
       "75%       131.000000      82.000000  ...      66.000000     135.000000   \n",
       "max       273.000000     185.000000  ...    8110.000000    5119.000000   \n",
       "\n",
       "        triglyceride     hemoglobin  urine_protein  serum_creatinine  \\\n",
       "count  991346.000000  991346.000000  991346.000000     991346.000000   \n",
       "mean      132.141751      14.229824       1.094224          0.860467   \n",
       "std       102.196985       1.584929       0.437724          0.480530   \n",
       "min         1.000000       1.000000       1.000000          0.100000   \n",
       "25%        73.000000      13.200000       1.000000          0.700000   \n",
       "50%       106.000000      14.300000       1.000000          0.800000   \n",
       "75%       159.000000      15.400000       1.000000          1.000000   \n",
       "max      9490.000000      25.000000       6.000000         98.000000   \n",
       "\n",
       "            SGOT_AST       SGOT_ALT      gamma_GTP  SMK_stat_type_cd  \n",
       "count  991346.000000  991346.000000  991346.000000     991346.000000  \n",
       "mean       25.989308      25.755051      37.136347          1.608122  \n",
       "std        23.493386      26.308599      50.424153          0.818507  \n",
       "min         1.000000       1.000000       1.000000          1.000000  \n",
       "25%        19.000000      15.000000      16.000000          1.000000  \n",
       "50%        23.000000      20.000000      23.000000          1.000000  \n",
       "75%        28.000000      29.000000      39.000000          2.000000  \n",
       "max      9999.000000    7210.000000     999.000000          3.000000  \n",
       "\n",
       "[8 rows x 22 columns]"
      ]
     },
     "execution_count": 3,
     "metadata": {},
     "output_type": "execute_result"
    }
   ],
   "source": [
    "data.describe()"
   ]
  },
  {
   "cell_type": "code",
   "execution_count": 4,
   "metadata": {},
   "outputs": [],
   "source": [
    "from sklearn.preprocessing import LabelEncoder\n",
    "\n",
    "la=LabelEncoder()\n",
    "\n",
    "data['DRK_YN'] = la.fit_transform(data['DRK_YN'])\n"
   ]
  },
  {
   "cell_type": "code",
   "execution_count": 5,
   "metadata": {},
   "outputs": [
    {
     "data": {
      "text/plain": [
       "DRK_YN\n",
       "0    495858\n",
       "1    495488\n",
       "Name: count, dtype: int64"
      ]
     },
     "execution_count": 5,
     "metadata": {},
     "output_type": "execute_result"
    }
   ],
   "source": [
    "data['DRK_YN'].value_counts()"
   ]
  },
  {
   "cell_type": "markdown",
   "metadata": {},
   "source": [
    "Here N represents non-drinkers, whereas Y represents drinkers"
   ]
  },
  {
   "cell_type": "code",
   "execution_count": 6,
   "metadata": {},
   "outputs": [],
   "source": [
    "data.drop(['sex'], inplace=True, axis=1)\n"
   ]
  },
  {
   "cell_type": "code",
   "execution_count": 7,
   "metadata": {},
   "outputs": [
    {
     "data": {
      "text/html": [
       "<div>\n",
       "<style scoped>\n",
       "    .dataframe tbody tr th:only-of-type {\n",
       "        vertical-align: middle;\n",
       "    }\n",
       "\n",
       "    .dataframe tbody tr th {\n",
       "        vertical-align: top;\n",
       "    }\n",
       "\n",
       "    .dataframe thead th {\n",
       "        text-align: right;\n",
       "    }\n",
       "</style>\n",
       "<table border=\"1\" class=\"dataframe\">\n",
       "  <thead>\n",
       "    <tr style=\"text-align: right;\">\n",
       "      <th></th>\n",
       "      <th>age</th>\n",
       "      <th>height</th>\n",
       "      <th>weight</th>\n",
       "      <th>waistline</th>\n",
       "      <th>sight_left</th>\n",
       "      <th>sight_right</th>\n",
       "      <th>hear_left</th>\n",
       "      <th>hear_right</th>\n",
       "      <th>SBP</th>\n",
       "      <th>DBP</th>\n",
       "      <th>...</th>\n",
       "      <th>HDL_chole</th>\n",
       "      <th>LDL_chole</th>\n",
       "      <th>triglyceride</th>\n",
       "      <th>hemoglobin</th>\n",
       "      <th>urine_protein</th>\n",
       "      <th>serum_creatinine</th>\n",
       "      <th>SGOT_AST</th>\n",
       "      <th>SGOT_ALT</th>\n",
       "      <th>gamma_GTP</th>\n",
       "      <th>SMK_stat_type_cd</th>\n",
       "    </tr>\n",
       "    <tr>\n",
       "      <th>DRK_YN</th>\n",
       "      <th></th>\n",
       "      <th></th>\n",
       "      <th></th>\n",
       "      <th></th>\n",
       "      <th></th>\n",
       "      <th></th>\n",
       "      <th></th>\n",
       "      <th></th>\n",
       "      <th></th>\n",
       "      <th></th>\n",
       "      <th></th>\n",
       "      <th></th>\n",
       "      <th></th>\n",
       "      <th></th>\n",
       "      <th></th>\n",
       "      <th></th>\n",
       "      <th></th>\n",
       "      <th></th>\n",
       "      <th></th>\n",
       "      <th></th>\n",
       "      <th></th>\n",
       "    </tr>\n",
       "  </thead>\n",
       "  <tbody>\n",
       "    <tr>\n",
       "      <th>0</th>\n",
       "      <td>51.648809</td>\n",
       "      <td>158.764848</td>\n",
       "      <td>59.977998</td>\n",
       "      <td>80.131769</td>\n",
       "      <td>0.933964</td>\n",
       "      <td>0.933205</td>\n",
       "      <td>1.041679</td>\n",
       "      <td>1.040481</td>\n",
       "      <td>121.950591</td>\n",
       "      <td>75.055403</td>\n",
       "      <td>...</td>\n",
       "      <td>56.204200</td>\n",
       "      <td>114.603191</td>\n",
       "      <td>121.476582</td>\n",
       "      <td>13.755567</td>\n",
       "      <td>1.095592</td>\n",
       "      <td>0.831262</td>\n",
       "      <td>25.064444</td>\n",
       "      <td>24.100658</td>\n",
       "      <td>26.798521</td>\n",
       "      <td>1.321110</td>\n",
       "    </tr>\n",
       "    <tr>\n",
       "      <th>1</th>\n",
       "      <td>43.577160</td>\n",
       "      <td>165.718998</td>\n",
       "      <td>66.592571</td>\n",
       "      <td>82.335770</td>\n",
       "      <td>1.027740</td>\n",
       "      <td>1.023687</td>\n",
       "      <td>1.021302</td>\n",
       "      <td>1.020463</td>\n",
       "      <td>122.914765</td>\n",
       "      <td>77.050597</td>\n",
       "      <td>...</td>\n",
       "      <td>57.669948</td>\n",
       "      <td>111.471025</td>\n",
       "      <td>142.814884</td>\n",
       "      <td>14.704434</td>\n",
       "      <td>1.092856</td>\n",
       "      <td>0.889693</td>\n",
       "      <td>26.914864</td>\n",
       "      <td>27.410680</td>\n",
       "      <td>47.481893</td>\n",
       "      <td>1.895348</td>\n",
       "    </tr>\n",
       "  </tbody>\n",
       "</table>\n",
       "<p>2 rows × 22 columns</p>\n",
       "</div>"
      ],
      "text/plain": [
       "              age      height     weight  waistline  sight_left  sight_right  \\\n",
       "DRK_YN                                                                         \n",
       "0       51.648809  158.764848  59.977998  80.131769    0.933964     0.933205   \n",
       "1       43.577160  165.718998  66.592571  82.335770    1.027740     1.023687   \n",
       "\n",
       "        hear_left  hear_right         SBP        DBP  ...  HDL_chole  \\\n",
       "DRK_YN                                                ...              \n",
       "0        1.041679    1.040481  121.950591  75.055403  ...  56.204200   \n",
       "1        1.021302    1.020463  122.914765  77.050597  ...  57.669948   \n",
       "\n",
       "         LDL_chole  triglyceride  hemoglobin  urine_protein  serum_creatinine  \\\n",
       "DRK_YN                                                                          \n",
       "0       114.603191    121.476582   13.755567       1.095592          0.831262   \n",
       "1       111.471025    142.814884   14.704434       1.092856          0.889693   \n",
       "\n",
       "         SGOT_AST   SGOT_ALT  gamma_GTP  SMK_stat_type_cd  \n",
       "DRK_YN                                                     \n",
       "0       25.064444  24.100658  26.798521          1.321110  \n",
       "1       26.914864  27.410680  47.481893          1.895348  \n",
       "\n",
       "[2 rows x 22 columns]"
      ]
     },
     "execution_count": 7,
     "metadata": {},
     "output_type": "execute_result"
    }
   ],
   "source": [
    "data.groupby('DRK_YN').mean()"
   ]
  },
  {
   "cell_type": "markdown",
   "metadata": {},
   "source": [
    "Here, by analysis of data for drinkers and non-drinkers, we can conclude that alcohol affects triglyceride,gamma_GTP levels heavily."
   ]
  },
  {
   "cell_type": "code",
   "execution_count": 8,
   "metadata": {},
   "outputs": [],
   "source": [
    "y= data.loc[:,\"DRK_YN\"]\n",
    "x=data.loc[:, ('triglyceride', 'gamma_GTP')]\n"
   ]
  },
  {
   "cell_type": "code",
   "execution_count": 9,
   "metadata": {},
   "outputs": [],
   "source": [
    "#normalising X \n",
    "\n",
    "import scipy\n",
    "X=scipy.stats.zscore(x)"
   ]
  },
  {
   "cell_type": "code",
   "execution_count": 10,
   "metadata": {},
   "outputs": [
    {
     "name": "stdout",
     "output_type": "stream",
     "text": [
      "        triglyceride  gamma_GTP\n",
      "0          -0.392788   0.056791\n",
      "1          -0.109022  -0.201022\n",
      "2          -0.275368   0.612081\n",
      "3          -0.255798  -0.379508\n",
      "4          -0.275368  -0.240685\n",
      "...              ...        ...\n",
      "991341     -0.001387  -0.201022\n",
      "991342     -0.852685  -0.439003\n",
      "991343      0.243239  -0.399340\n",
      "991344     -0.774404  -0.399340\n",
      "991345      0.301949  -0.022536\n",
      "\n",
      "[991346 rows x 2 columns]\n"
     ]
    }
   ],
   "source": [
    "print(X)"
   ]
  },
  {
   "cell_type": "code",
   "execution_count": 11,
   "metadata": {},
   "outputs": [
    {
     "data": {
      "text/plain": [
       "((991346, 2), (991346,))"
      ]
     },
     "execution_count": 11,
     "metadata": {},
     "output_type": "execute_result"
    }
   ],
   "source": [
    "x.shape, y.shape"
   ]
  },
  {
   "cell_type": "code",
   "execution_count": 12,
   "metadata": {},
   "outputs": [],
   "source": [
    "from sklearn.model_selection import train_test_split"
   ]
  },
  {
   "cell_type": "code",
   "execution_count": 13,
   "metadata": {},
   "outputs": [],
   "source": [
    "x_train, x_test, y_train, y_test = train_test_split(x,y,test_size=0.2,random_state=99)"
   ]
  },
  {
   "cell_type": "code",
   "execution_count": 14,
   "metadata": {},
   "outputs": [
    {
     "data": {
      "text/plain": [
       "((793076, 2), (793076,))"
      ]
     },
     "execution_count": 14,
     "metadata": {},
     "output_type": "execute_result"
    }
   ],
   "source": [
    "x_train.shape, y_train.shape"
   ]
  },
  {
   "cell_type": "code",
   "execution_count": 19,
   "metadata": {},
   "outputs": [],
   "source": [
    "from sklearn.linear_model import LinearRegression"
   ]
  },
  {
   "cell_type": "code",
   "execution_count": 20,
   "metadata": {},
   "outputs": [],
   "source": [
    "le = LinearRegression()"
   ]
  },
  {
   "cell_type": "code",
   "execution_count": 21,
   "metadata": {},
   "outputs": [
    {
     "data": {
      "text/html": [
       "<style>#sk-container-id-1 {color: black;}#sk-container-id-1 pre{padding: 0;}#sk-container-id-1 div.sk-toggleable {background-color: white;}#sk-container-id-1 label.sk-toggleable__label {cursor: pointer;display: block;width: 100%;margin-bottom: 0;padding: 0.3em;box-sizing: border-box;text-align: center;}#sk-container-id-1 label.sk-toggleable__label-arrow:before {content: \"▸\";float: left;margin-right: 0.25em;color: #696969;}#sk-container-id-1 label.sk-toggleable__label-arrow:hover:before {color: black;}#sk-container-id-1 div.sk-estimator:hover label.sk-toggleable__label-arrow:before {color: black;}#sk-container-id-1 div.sk-toggleable__content {max-height: 0;max-width: 0;overflow: hidden;text-align: left;background-color: #f0f8ff;}#sk-container-id-1 div.sk-toggleable__content pre {margin: 0.2em;color: black;border-radius: 0.25em;background-color: #f0f8ff;}#sk-container-id-1 input.sk-toggleable__control:checked~div.sk-toggleable__content {max-height: 200px;max-width: 100%;overflow: auto;}#sk-container-id-1 input.sk-toggleable__control:checked~label.sk-toggleable__label-arrow:before {content: \"▾\";}#sk-container-id-1 div.sk-estimator input.sk-toggleable__control:checked~label.sk-toggleable__label {background-color: #d4ebff;}#sk-container-id-1 div.sk-label input.sk-toggleable__control:checked~label.sk-toggleable__label {background-color: #d4ebff;}#sk-container-id-1 input.sk-hidden--visually {border: 0;clip: rect(1px 1px 1px 1px);clip: rect(1px, 1px, 1px, 1px);height: 1px;margin: -1px;overflow: hidden;padding: 0;position: absolute;width: 1px;}#sk-container-id-1 div.sk-estimator {font-family: monospace;background-color: #f0f8ff;border: 1px dotted black;border-radius: 0.25em;box-sizing: border-box;margin-bottom: 0.5em;}#sk-container-id-1 div.sk-estimator:hover {background-color: #d4ebff;}#sk-container-id-1 div.sk-parallel-item::after {content: \"\";width: 100%;border-bottom: 1px solid gray;flex-grow: 1;}#sk-container-id-1 div.sk-label:hover label.sk-toggleable__label {background-color: #d4ebff;}#sk-container-id-1 div.sk-serial::before {content: \"\";position: absolute;border-left: 1px solid gray;box-sizing: border-box;top: 0;bottom: 0;left: 50%;z-index: 0;}#sk-container-id-1 div.sk-serial {display: flex;flex-direction: column;align-items: center;background-color: white;padding-right: 0.2em;padding-left: 0.2em;position: relative;}#sk-container-id-1 div.sk-item {position: relative;z-index: 1;}#sk-container-id-1 div.sk-parallel {display: flex;align-items: stretch;justify-content: center;background-color: white;position: relative;}#sk-container-id-1 div.sk-item::before, #sk-container-id-1 div.sk-parallel-item::before {content: \"\";position: absolute;border-left: 1px solid gray;box-sizing: border-box;top: 0;bottom: 0;left: 50%;z-index: -1;}#sk-container-id-1 div.sk-parallel-item {display: flex;flex-direction: column;z-index: 1;position: relative;background-color: white;}#sk-container-id-1 div.sk-parallel-item:first-child::after {align-self: flex-end;width: 50%;}#sk-container-id-1 div.sk-parallel-item:last-child::after {align-self: flex-start;width: 50%;}#sk-container-id-1 div.sk-parallel-item:only-child::after {width: 0;}#sk-container-id-1 div.sk-dashed-wrapped {border: 1px dashed gray;margin: 0 0.4em 0.5em 0.4em;box-sizing: border-box;padding-bottom: 0.4em;background-color: white;}#sk-container-id-1 div.sk-label label {font-family: monospace;font-weight: bold;display: inline-block;line-height: 1.2em;}#sk-container-id-1 div.sk-label-container {text-align: center;}#sk-container-id-1 div.sk-container {/* jupyter's `normalize.less` sets `[hidden] { display: none; }` but bootstrap.min.css set `[hidden] { display: none !important; }` so we also need the `!important` here to be able to override the default hidden behavior on the sphinx rendered scikit-learn.org. See: https://github.com/scikit-learn/scikit-learn/issues/21755 */display: inline-block !important;position: relative;}#sk-container-id-1 div.sk-text-repr-fallback {display: none;}</style><div id=\"sk-container-id-1\" class=\"sk-top-container\"><div class=\"sk-text-repr-fallback\"><pre>LinearRegression()</pre><b>In a Jupyter environment, please rerun this cell to show the HTML representation or trust the notebook. <br />On GitHub, the HTML representation is unable to render, please try loading this page with nbviewer.org.</b></div><div class=\"sk-container\" hidden><div class=\"sk-item\"><div class=\"sk-estimator sk-toggleable\"><input class=\"sk-toggleable__control sk-hidden--visually\" id=\"sk-estimator-id-1\" type=\"checkbox\" checked><label for=\"sk-estimator-id-1\" class=\"sk-toggleable__label sk-toggleable__label-arrow\">LinearRegression</label><div class=\"sk-toggleable__content\"><pre>LinearRegression()</pre></div></div></div></div></div>"
      ],
      "text/plain": [
       "LinearRegression()"
      ]
     },
     "execution_count": 21,
     "metadata": {},
     "output_type": "execute_result"
    }
   ],
   "source": [
    "le.fit(x_train, y_train)"
   ]
  },
  {
   "cell_type": "code",
   "execution_count": 22,
   "metadata": {},
   "outputs": [],
   "source": [
    "y_pred = le.predict(x_test)\n"
   ]
  },
  {
   "cell_type": "code",
   "execution_count": 23,
   "metadata": {},
   "outputs": [
    {
     "data": {
      "text/plain": [
       "array([0.50005363, 0.48315239, 0.48122732, ..., 0.42786286, 0.45595731,\n",
       "       0.45595731])"
      ]
     },
     "execution_count": 23,
     "metadata": {},
     "output_type": "execute_result"
    }
   ],
   "source": [
    "y_pred"
   ]
  },
  {
   "cell_type": "code",
   "execution_count": 24,
   "metadata": {},
   "outputs": [],
   "source": [
    "from sklearn.metrics import mean_squared_error"
   ]
  },
  {
   "cell_type": "code",
   "execution_count": 26,
   "metadata": {},
   "outputs": [
    {
     "data": {
      "text/plain": [
       "0.2388366874499975"
      ]
     },
     "execution_count": 26,
     "metadata": {},
     "output_type": "execute_result"
    }
   ],
   "source": [
    "mean_squared_error(y_test,y_pred)\n"
   ]
  },
  {
   "cell_type": "code",
   "execution_count": 27,
   "metadata": {},
   "outputs": [
    {
     "data": {
      "text/plain": [
       "<matplotlib.legend.Legend at 0x167b5cd90>"
      ]
     },
     "execution_count": 27,
     "metadata": {},
     "output_type": "execute_result"
    },
    {
     "data": {
      "image/png": "[encoded data removed]",
      "text/plain": [
       "<Figure size 640x480 with 1 Axes>"
      ]
     },
     "metadata": {},
     "output_type": "display_data"
    }
   ],
   "source": [
    "data_truecopy=data.copy()\n",
    "data_truecopy=scipy.stats.zscore(data_truecopy)\n",
    "data_truecopy.groupby('DRK_YN')[\"gamma_GTP\"].plot(kind='kde')\n",
    "plt.legend(['A', 'B'], title='Drinker/Non-Drinker')"
   ]
  },
  {
   "cell_type": "code",
   "execution_count": 28,
   "metadata": {},
   "outputs": [
    {
     "data": {
      "text/plain": [
       "<matplotlib.legend.Legend at 0x166a79a10>"
      ]
     },
     "execution_count": 28,
     "metadata": {},
     "output_type": "execute_result"
    },
    {
     "data": {
      "image/png": "[encoded data removed]",
      "text/plain": [
       "<Figure size 640x480 with 1 Axes>"
      ]
     },
     "metadata": {},
     "output_type": "display_data"
    }
   ],
   "source": [
    "data_truecopy=data.copy()\n",
    "data_truecopy=scipy.stats.zscore(data_truecopy)\n",
    "data_truecopy.groupby('DRK_YN')[\"triglyceride\"].plot(kind='kde')\n",
    "plt.legend(['A', 'B'], title='Drinker/Non-Drinker')"
   ]
  }
 ],
 "metadata": {
  "kernelspec": {
   "display_name": "Python 3",
   "language": "python",
   "name": "python3"
  },
  "language_info": {
   "codemirror_mode": {
    "name": "ipython",
    "version": 3
   },
   "file_extension": ".py",
   "mimetype": "text/x-python",
   "name": "python",
   "nbconvert_exporter": "python",
   "pygments_lexer": "ipython3",
   "version": "3.11.5"
  },
  "orig_nbformat": 4
 },
 "nbformat": 4,
 "nbformat_minor": 2
}
